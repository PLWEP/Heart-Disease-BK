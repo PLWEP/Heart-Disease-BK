{
  "cells": [
    {
      "cell_type": "markdown",
      "metadata": {
        "id": "u2tWtEq4s2Z_"
      },
      "source": [
        "# 1. Pengumpulan Data\n",
        "Dataset didapatkan dari : https://archive.ics.uci.edu/dataset/45/heart+disease\n",
        "\n",
        "Data yang digunakan yaitu file 'hungarian.data' dimana deskripsinya terdapat pada file 'heart-disease.names'"
      ]
    },
    {
      "cell_type": "markdown",
      "metadata": {
        "id": "rFhWPoF4uHA_"
      },
      "source": [
        "# 2. Menelaah Data"
      ]
    },
    {
      "cell_type": "markdown",
      "metadata": {},
      "source": [
        "## Import Libraries"
      ]
    },
    {
      "cell_type": "code",
      "execution_count": 1,
      "metadata": {},
      "outputs": [
        {
          "name": "stdout",
          "output_type": "stream",
          "text": [
            "WARNING:tensorflow:From d:\\Conda\\envs\\ML\\lib\\site-packages\\keras\\src\\losses.py:2976: The name tf.losses.sparse_softmax_cross_entropy is deprecated. Please use tf.compat.v1.losses.sparse_softmax_cross_entropy instead.\n",
            "\n"
          ]
        }
      ],
      "source": [
        "import pandas as pd\n",
        "import numpy as np\n",
        "import seaborn as sns\n",
        "import matplotlib.pyplot as plt\n",
        "from imblearn.over_sampling import RandomOverSampler\n",
        "from imblearn.under_sampling import RandomUnderSampler\n",
        "from sklearn.preprocessing import MinMaxScaler\n",
        "from sklearn.model_selection import train_test_split\n",
        "from sklearn.neighbors import KNeighborsClassifier\n",
        "from sklearn.metrics import accuracy_score\n",
        "from sklearn.metrics import classification_report\n",
        "from sklearn.svm import SVC\n",
        "import tensorflow as tf\n",
        "from sklearn.ensemble import RandomForestClassifier\n",
        "from sklearn.tree import DecisionTreeClassifier\n",
        "import pickle"
      ]
    },
    {
      "cell_type": "markdown",
      "metadata": {
        "id": "qVCWtIz6uMf9"
      },
      "source": [
        "## Load Data"
      ]
    },
    {
      "cell_type": "code",
      "execution_count": 2,
      "metadata": {},
      "outputs": [
        {
          "data": {
            "text/html": [
              "<div>\n",
              "<style scoped>\n",
              "    .dataframe tbody tr th:only-of-type {\n",
              "        vertical-align: middle;\n",
              "    }\n",
              "\n",
              "    .dataframe tbody tr th {\n",
              "        vertical-align: top;\n",
              "    }\n",
              "\n",
              "    .dataframe thead th {\n",
              "        text-align: right;\n",
              "    }\n",
              "</style>\n",
              "<table border=\"1\" class=\"dataframe\">\n",
              "  <thead>\n",
              "    <tr style=\"text-align: right;\">\n",
              "      <th></th>\n",
              "      <th>0</th>\n",
              "      <th>1</th>\n",
              "      <th>2</th>\n",
              "      <th>3</th>\n",
              "      <th>4</th>\n",
              "      <th>5</th>\n",
              "      <th>6</th>\n",
              "      <th>7</th>\n",
              "      <th>8</th>\n",
              "      <th>9</th>\n",
              "      <th>...</th>\n",
              "      <th>65</th>\n",
              "      <th>66</th>\n",
              "      <th>67</th>\n",
              "      <th>68</th>\n",
              "      <th>69</th>\n",
              "      <th>70</th>\n",
              "      <th>71</th>\n",
              "      <th>72</th>\n",
              "      <th>73</th>\n",
              "      <th>74</th>\n",
              "    </tr>\n",
              "  </thead>\n",
              "  <tbody>\n",
              "    <tr>\n",
              "      <th>0</th>\n",
              "      <td>1254.0</td>\n",
              "      <td>0.0</td>\n",
              "      <td>40.0</td>\n",
              "      <td>1.0</td>\n",
              "      <td>1.0</td>\n",
              "      <td>0.0</td>\n",
              "      <td>0.0</td>\n",
              "      <td>-9.0</td>\n",
              "      <td>2.0</td>\n",
              "      <td>140.0</td>\n",
              "      <td>...</td>\n",
              "      <td>-9.0</td>\n",
              "      <td>-9.0</td>\n",
              "      <td>-9.0</td>\n",
              "      <td>1.0</td>\n",
              "      <td>1.0</td>\n",
              "      <td>1.0</td>\n",
              "      <td>1.0</td>\n",
              "      <td>1.0</td>\n",
              "      <td>-9.0</td>\n",
              "      <td>-9.0</td>\n",
              "    </tr>\n",
              "    <tr>\n",
              "      <th>1</th>\n",
              "      <td>1255.0</td>\n",
              "      <td>0.0</td>\n",
              "      <td>49.0</td>\n",
              "      <td>0.0</td>\n",
              "      <td>1.0</td>\n",
              "      <td>0.0</td>\n",
              "      <td>0.0</td>\n",
              "      <td>-9.0</td>\n",
              "      <td>3.0</td>\n",
              "      <td>160.0</td>\n",
              "      <td>...</td>\n",
              "      <td>-9.0</td>\n",
              "      <td>-9.0</td>\n",
              "      <td>-9.0</td>\n",
              "      <td>1.0</td>\n",
              "      <td>1.0</td>\n",
              "      <td>1.0</td>\n",
              "      <td>1.0</td>\n",
              "      <td>1.0</td>\n",
              "      <td>-9.0</td>\n",
              "      <td>-9.0</td>\n",
              "    </tr>\n",
              "    <tr>\n",
              "      <th>2</th>\n",
              "      <td>1256.0</td>\n",
              "      <td>0.0</td>\n",
              "      <td>37.0</td>\n",
              "      <td>1.0</td>\n",
              "      <td>1.0</td>\n",
              "      <td>0.0</td>\n",
              "      <td>0.0</td>\n",
              "      <td>-9.0</td>\n",
              "      <td>2.0</td>\n",
              "      <td>130.0</td>\n",
              "      <td>...</td>\n",
              "      <td>-9.0</td>\n",
              "      <td>-9.0</td>\n",
              "      <td>-9.0</td>\n",
              "      <td>1.0</td>\n",
              "      <td>1.0</td>\n",
              "      <td>1.0</td>\n",
              "      <td>1.0</td>\n",
              "      <td>1.0</td>\n",
              "      <td>-9.0</td>\n",
              "      <td>-9.0</td>\n",
              "    </tr>\n",
              "    <tr>\n",
              "      <th>3</th>\n",
              "      <td>1257.0</td>\n",
              "      <td>0.0</td>\n",
              "      <td>48.0</td>\n",
              "      <td>0.0</td>\n",
              "      <td>1.0</td>\n",
              "      <td>1.0</td>\n",
              "      <td>1.0</td>\n",
              "      <td>-9.0</td>\n",
              "      <td>4.0</td>\n",
              "      <td>138.0</td>\n",
              "      <td>...</td>\n",
              "      <td>-9.0</td>\n",
              "      <td>2.0</td>\n",
              "      <td>-9.0</td>\n",
              "      <td>1.0</td>\n",
              "      <td>1.0</td>\n",
              "      <td>1.0</td>\n",
              "      <td>1.0</td>\n",
              "      <td>1.0</td>\n",
              "      <td>-9.0</td>\n",
              "      <td>-9.0</td>\n",
              "    </tr>\n",
              "    <tr>\n",
              "      <th>4</th>\n",
              "      <td>1258.0</td>\n",
              "      <td>0.0</td>\n",
              "      <td>54.0</td>\n",
              "      <td>1.0</td>\n",
              "      <td>1.0</td>\n",
              "      <td>0.0</td>\n",
              "      <td>1.0</td>\n",
              "      <td>-9.0</td>\n",
              "      <td>3.0</td>\n",
              "      <td>150.0</td>\n",
              "      <td>...</td>\n",
              "      <td>-9.0</td>\n",
              "      <td>1.0</td>\n",
              "      <td>-9.0</td>\n",
              "      <td>1.0</td>\n",
              "      <td>1.0</td>\n",
              "      <td>1.0</td>\n",
              "      <td>1.0</td>\n",
              "      <td>1.0</td>\n",
              "      <td>-9.0</td>\n",
              "      <td>-9.0</td>\n",
              "    </tr>\n",
              "  </tbody>\n",
              "</table>\n",
              "<p>5 rows × 75 columns</p>\n",
              "</div>"
            ],
            "text/plain": [
              "       0    1     2    3    4    5    6    7    8      9   ...   65   66   67  \\\n",
              "0  1254.0  0.0  40.0  1.0  1.0  0.0  0.0 -9.0  2.0  140.0  ... -9.0 -9.0 -9.0   \n",
              "1  1255.0  0.0  49.0  0.0  1.0  0.0  0.0 -9.0  3.0  160.0  ... -9.0 -9.0 -9.0   \n",
              "2  1256.0  0.0  37.0  1.0  1.0  0.0  0.0 -9.0  2.0  130.0  ... -9.0 -9.0 -9.0   \n",
              "3  1257.0  0.0  48.0  0.0  1.0  1.0  1.0 -9.0  4.0  138.0  ... -9.0  2.0 -9.0   \n",
              "4  1258.0  0.0  54.0  1.0  1.0  0.0  1.0 -9.0  3.0  150.0  ... -9.0  1.0 -9.0   \n",
              "\n",
              "    68   69   70   71   72   73   74  \n",
              "0  1.0  1.0  1.0  1.0  1.0 -9.0 -9.0  \n",
              "1  1.0  1.0  1.0  1.0  1.0 -9.0 -9.0  \n",
              "2  1.0  1.0  1.0  1.0  1.0 -9.0 -9.0  \n",
              "3  1.0  1.0  1.0  1.0  1.0 -9.0 -9.0  \n",
              "4  1.0  1.0  1.0  1.0  1.0 -9.0 -9.0  \n",
              "\n",
              "[5 rows x 75 columns]"
            ]
          },
          "execution_count": 2,
          "metadata": {},
          "output_type": "execute_result"
        }
      ],
      "source": [
        "file_path = 'heart+disease\\hungarian.data'\n",
        "\n",
        "with open(file_path, 'r') as file:\n",
        "    raw_data = file.read()\n",
        "\n",
        "raw_data = raw_data.strip().split('name')\n",
        "raw_data.pop()\n",
        "cleaned_data = [string.replace('\\n\\n', ' ').replace('\\n', ' ').strip().split(' ') for string in raw_data]\n",
        "data = pd.DataFrame(cleaned_data)\n",
        "data = data.astype(float)\n",
        "\n",
        "data.head()"
      ]
    },
    {
      "cell_type": "markdown",
      "metadata": {
        "id": "MpsdaY-DuT5G"
      },
      "source": [
        "# 3. Validasi Data\n",
        "\n",
        "Merubah data -9.0 menjadi nan, dikarenakan dalam dokumentasi nilai tersebut merupakan missing value."
      ]
    },
    {
      "cell_type": "code",
      "execution_count": 3,
      "metadata": {
        "colab": {
          "base_uri": "https://localhost:8080/",
          "height": 206
        },
        "id": "hwEY2CEctkXO",
        "outputId": "7db45a08-1918-4a12-b3fa-873720da6300"
      },
      "outputs": [
        {
          "data": {
            "text/html": [
              "<div>\n",
              "<style scoped>\n",
              "    .dataframe tbody tr th:only-of-type {\n",
              "        vertical-align: middle;\n",
              "    }\n",
              "\n",
              "    .dataframe tbody tr th {\n",
              "        vertical-align: top;\n",
              "    }\n",
              "\n",
              "    .dataframe thead th {\n",
              "        text-align: right;\n",
              "    }\n",
              "</style>\n",
              "<table border=\"1\" class=\"dataframe\">\n",
              "  <thead>\n",
              "    <tr style=\"text-align: right;\">\n",
              "      <th></th>\n",
              "      <th>0</th>\n",
              "      <th>1</th>\n",
              "      <th>2</th>\n",
              "      <th>3</th>\n",
              "      <th>4</th>\n",
              "      <th>5</th>\n",
              "      <th>6</th>\n",
              "      <th>7</th>\n",
              "      <th>8</th>\n",
              "      <th>9</th>\n",
              "      <th>...</th>\n",
              "      <th>65</th>\n",
              "      <th>66</th>\n",
              "      <th>67</th>\n",
              "      <th>68</th>\n",
              "      <th>69</th>\n",
              "      <th>70</th>\n",
              "      <th>71</th>\n",
              "      <th>72</th>\n",
              "      <th>73</th>\n",
              "      <th>74</th>\n",
              "    </tr>\n",
              "  </thead>\n",
              "  <tbody>\n",
              "    <tr>\n",
              "      <th>0</th>\n",
              "      <td>1254.0</td>\n",
              "      <td>0.0</td>\n",
              "      <td>40.0</td>\n",
              "      <td>1.0</td>\n",
              "      <td>1.0</td>\n",
              "      <td>0.0</td>\n",
              "      <td>0.0</td>\n",
              "      <td>NaN</td>\n",
              "      <td>2.0</td>\n",
              "      <td>140.0</td>\n",
              "      <td>...</td>\n",
              "      <td>NaN</td>\n",
              "      <td>NaN</td>\n",
              "      <td>NaN</td>\n",
              "      <td>1.0</td>\n",
              "      <td>1.0</td>\n",
              "      <td>1.0</td>\n",
              "      <td>1.0</td>\n",
              "      <td>1.0</td>\n",
              "      <td>NaN</td>\n",
              "      <td>NaN</td>\n",
              "    </tr>\n",
              "    <tr>\n",
              "      <th>1</th>\n",
              "      <td>1255.0</td>\n",
              "      <td>0.0</td>\n",
              "      <td>49.0</td>\n",
              "      <td>0.0</td>\n",
              "      <td>1.0</td>\n",
              "      <td>0.0</td>\n",
              "      <td>0.0</td>\n",
              "      <td>NaN</td>\n",
              "      <td>3.0</td>\n",
              "      <td>160.0</td>\n",
              "      <td>...</td>\n",
              "      <td>NaN</td>\n",
              "      <td>NaN</td>\n",
              "      <td>NaN</td>\n",
              "      <td>1.0</td>\n",
              "      <td>1.0</td>\n",
              "      <td>1.0</td>\n",
              "      <td>1.0</td>\n",
              "      <td>1.0</td>\n",
              "      <td>NaN</td>\n",
              "      <td>NaN</td>\n",
              "    </tr>\n",
              "    <tr>\n",
              "      <th>2</th>\n",
              "      <td>1256.0</td>\n",
              "      <td>0.0</td>\n",
              "      <td>37.0</td>\n",
              "      <td>1.0</td>\n",
              "      <td>1.0</td>\n",
              "      <td>0.0</td>\n",
              "      <td>0.0</td>\n",
              "      <td>NaN</td>\n",
              "      <td>2.0</td>\n",
              "      <td>130.0</td>\n",
              "      <td>...</td>\n",
              "      <td>NaN</td>\n",
              "      <td>NaN</td>\n",
              "      <td>NaN</td>\n",
              "      <td>1.0</td>\n",
              "      <td>1.0</td>\n",
              "      <td>1.0</td>\n",
              "      <td>1.0</td>\n",
              "      <td>1.0</td>\n",
              "      <td>NaN</td>\n",
              "      <td>NaN</td>\n",
              "    </tr>\n",
              "    <tr>\n",
              "      <th>3</th>\n",
              "      <td>1257.0</td>\n",
              "      <td>0.0</td>\n",
              "      <td>48.0</td>\n",
              "      <td>0.0</td>\n",
              "      <td>1.0</td>\n",
              "      <td>1.0</td>\n",
              "      <td>1.0</td>\n",
              "      <td>NaN</td>\n",
              "      <td>4.0</td>\n",
              "      <td>138.0</td>\n",
              "      <td>...</td>\n",
              "      <td>NaN</td>\n",
              "      <td>2.0</td>\n",
              "      <td>NaN</td>\n",
              "      <td>1.0</td>\n",
              "      <td>1.0</td>\n",
              "      <td>1.0</td>\n",
              "      <td>1.0</td>\n",
              "      <td>1.0</td>\n",
              "      <td>NaN</td>\n",
              "      <td>NaN</td>\n",
              "    </tr>\n",
              "    <tr>\n",
              "      <th>4</th>\n",
              "      <td>1258.0</td>\n",
              "      <td>0.0</td>\n",
              "      <td>54.0</td>\n",
              "      <td>1.0</td>\n",
              "      <td>1.0</td>\n",
              "      <td>0.0</td>\n",
              "      <td>1.0</td>\n",
              "      <td>NaN</td>\n",
              "      <td>3.0</td>\n",
              "      <td>150.0</td>\n",
              "      <td>...</td>\n",
              "      <td>NaN</td>\n",
              "      <td>1.0</td>\n",
              "      <td>NaN</td>\n",
              "      <td>1.0</td>\n",
              "      <td>1.0</td>\n",
              "      <td>1.0</td>\n",
              "      <td>1.0</td>\n",
              "      <td>1.0</td>\n",
              "      <td>NaN</td>\n",
              "      <td>NaN</td>\n",
              "    </tr>\n",
              "  </tbody>\n",
              "</table>\n",
              "<p>5 rows × 75 columns</p>\n",
              "</div>"
            ],
            "text/plain": [
              "       0    1     2    3    4    5    6   7    8      9   ...  65   66  67  \\\n",
              "0  1254.0  0.0  40.0  1.0  1.0  0.0  0.0 NaN  2.0  140.0  ... NaN  NaN NaN   \n",
              "1  1255.0  0.0  49.0  0.0  1.0  0.0  0.0 NaN  3.0  160.0  ... NaN  NaN NaN   \n",
              "2  1256.0  0.0  37.0  1.0  1.0  0.0  0.0 NaN  2.0  130.0  ... NaN  NaN NaN   \n",
              "3  1257.0  0.0  48.0  0.0  1.0  1.0  1.0 NaN  4.0  138.0  ... NaN  2.0 NaN   \n",
              "4  1258.0  0.0  54.0  1.0  1.0  0.0  1.0 NaN  3.0  150.0  ... NaN  1.0 NaN   \n",
              "\n",
              "    68   69   70   71   72  73  74  \n",
              "0  1.0  1.0  1.0  1.0  1.0 NaN NaN  \n",
              "1  1.0  1.0  1.0  1.0  1.0 NaN NaN  \n",
              "2  1.0  1.0  1.0  1.0  1.0 NaN NaN  \n",
              "3  1.0  1.0  1.0  1.0  1.0 NaN NaN  \n",
              "4  1.0  1.0  1.0  1.0  1.0 NaN NaN  \n",
              "\n",
              "[5 rows x 75 columns]"
            ]
          },
          "execution_count": 3,
          "metadata": {},
          "output_type": "execute_result"
        }
      ],
      "source": [
        "data = data.where(data >= 0, np.nan)\n",
        "data.head()"
      ]
    },
    {
      "cell_type": "markdown",
      "metadata": {
        "id": "x2VJ4enBuklV"
      },
      "source": [
        "# 4. Menentukan Fitur Data\n",
        "\n",
        "sesuai dengan dokumentasi terdapat 14 fitur yang digunakan yaitu : 'age', 'sex', 'cp', 'trestbps', 'chol', 'fbs', 'restecg', 'thalach', 'exang', 'oldpeak', 'slope', 'ca', 'thal', 'num'"
      ]
    },
    {
      "cell_type": "code",
      "execution_count": 4,
      "metadata": {},
      "outputs": [
        {
          "data": {
            "text/html": [
              "<div>\n",
              "<style scoped>\n",
              "    .dataframe tbody tr th:only-of-type {\n",
              "        vertical-align: middle;\n",
              "    }\n",
              "\n",
              "    .dataframe tbody tr th {\n",
              "        vertical-align: top;\n",
              "    }\n",
              "\n",
              "    .dataframe thead th {\n",
              "        text-align: right;\n",
              "    }\n",
              "</style>\n",
              "<table border=\"1\" class=\"dataframe\">\n",
              "  <thead>\n",
              "    <tr style=\"text-align: right;\">\n",
              "      <th></th>\n",
              "      <th>age</th>\n",
              "      <th>sex</th>\n",
              "      <th>cp</th>\n",
              "      <th>trestbps</th>\n",
              "      <th>chol</th>\n",
              "      <th>fbs</th>\n",
              "      <th>restecg</th>\n",
              "      <th>thalach</th>\n",
              "      <th>exang</th>\n",
              "      <th>oldpeak</th>\n",
              "      <th>slope</th>\n",
              "      <th>ca</th>\n",
              "      <th>thal</th>\n",
              "      <th>target</th>\n",
              "    </tr>\n",
              "  </thead>\n",
              "  <tbody>\n",
              "    <tr>\n",
              "      <th>0</th>\n",
              "      <td>40.0</td>\n",
              "      <td>1.0</td>\n",
              "      <td>2.0</td>\n",
              "      <td>140.0</td>\n",
              "      <td>289.0</td>\n",
              "      <td>0.0</td>\n",
              "      <td>0.0</td>\n",
              "      <td>172.0</td>\n",
              "      <td>0.0</td>\n",
              "      <td>0.0</td>\n",
              "      <td>NaN</td>\n",
              "      <td>NaN</td>\n",
              "      <td>NaN</td>\n",
              "      <td>0.0</td>\n",
              "    </tr>\n",
              "    <tr>\n",
              "      <th>1</th>\n",
              "      <td>49.0</td>\n",
              "      <td>0.0</td>\n",
              "      <td>3.0</td>\n",
              "      <td>160.0</td>\n",
              "      <td>180.0</td>\n",
              "      <td>0.0</td>\n",
              "      <td>0.0</td>\n",
              "      <td>156.0</td>\n",
              "      <td>0.0</td>\n",
              "      <td>1.0</td>\n",
              "      <td>2.0</td>\n",
              "      <td>NaN</td>\n",
              "      <td>NaN</td>\n",
              "      <td>1.0</td>\n",
              "    </tr>\n",
              "    <tr>\n",
              "      <th>2</th>\n",
              "      <td>37.0</td>\n",
              "      <td>1.0</td>\n",
              "      <td>2.0</td>\n",
              "      <td>130.0</td>\n",
              "      <td>283.0</td>\n",
              "      <td>0.0</td>\n",
              "      <td>1.0</td>\n",
              "      <td>98.0</td>\n",
              "      <td>0.0</td>\n",
              "      <td>0.0</td>\n",
              "      <td>NaN</td>\n",
              "      <td>NaN</td>\n",
              "      <td>NaN</td>\n",
              "      <td>0.0</td>\n",
              "    </tr>\n",
              "    <tr>\n",
              "      <th>3</th>\n",
              "      <td>48.0</td>\n",
              "      <td>0.0</td>\n",
              "      <td>4.0</td>\n",
              "      <td>138.0</td>\n",
              "      <td>214.0</td>\n",
              "      <td>0.0</td>\n",
              "      <td>0.0</td>\n",
              "      <td>108.0</td>\n",
              "      <td>1.0</td>\n",
              "      <td>1.5</td>\n",
              "      <td>2.0</td>\n",
              "      <td>NaN</td>\n",
              "      <td>NaN</td>\n",
              "      <td>3.0</td>\n",
              "    </tr>\n",
              "    <tr>\n",
              "      <th>4</th>\n",
              "      <td>54.0</td>\n",
              "      <td>1.0</td>\n",
              "      <td>3.0</td>\n",
              "      <td>150.0</td>\n",
              "      <td>NaN</td>\n",
              "      <td>0.0</td>\n",
              "      <td>0.0</td>\n",
              "      <td>122.0</td>\n",
              "      <td>0.0</td>\n",
              "      <td>0.0</td>\n",
              "      <td>NaN</td>\n",
              "      <td>NaN</td>\n",
              "      <td>NaN</td>\n",
              "      <td>0.0</td>\n",
              "    </tr>\n",
              "  </tbody>\n",
              "</table>\n",
              "</div>"
            ],
            "text/plain": [
              "    age  sex   cp  trestbps   chol  fbs  restecg  thalach  exang  oldpeak  \\\n",
              "0  40.0  1.0  2.0     140.0  289.0  0.0      0.0    172.0    0.0      0.0   \n",
              "1  49.0  0.0  3.0     160.0  180.0  0.0      0.0    156.0    0.0      1.0   \n",
              "2  37.0  1.0  2.0     130.0  283.0  0.0      1.0     98.0    0.0      0.0   \n",
              "3  48.0  0.0  4.0     138.0  214.0  0.0      0.0    108.0    1.0      1.5   \n",
              "4  54.0  1.0  3.0     150.0    NaN  0.0      0.0    122.0    0.0      0.0   \n",
              "\n",
              "   slope  ca  thal  target  \n",
              "0    NaN NaN   NaN     0.0  \n",
              "1    2.0 NaN   NaN     1.0  \n",
              "2    NaN NaN   NaN     0.0  \n",
              "3    2.0 NaN   NaN     3.0  \n",
              "4    NaN NaN   NaN     0.0  "
            ]
          },
          "execution_count": 4,
          "metadata": {},
          "output_type": "execute_result"
        }
      ],
      "source": [
        "column_feature = [2, 3, 8, 9, 11, 15, 18, 31, 37, 39, 40, 43, 50, 57]\n",
        "data_filtered = data.iloc[:, column_feature]\n",
        "\n",
        "column_mapping = {\n",
        "    2: 'age',\n",
        "    3: 'sex',\n",
        "    8: 'cp',\n",
        "    9: 'trestbps',\n",
        "    11: 'chol',\n",
        "    15: 'fbs',\n",
        "    18: 'restecg',\n",
        "    31: 'thalach',\n",
        "    37: 'exang',\n",
        "    39: 'oldpeak',\n",
        "    40: 'slope',\n",
        "    43: 'ca',\n",
        "    50: 'thal',\n",
        "    57: 'target',\n",
        "}\n",
        "\n",
        "data_filtered = data_filtered.rename(columns=column_mapping)\n",
        "data_filtered.head()"
      ]
    },
    {
      "cell_type": "markdown",
      "metadata": {
        "id": "6ClDV7Tcuw0u"
      },
      "source": [
        "# 5. Membersihkan Data\n",
        "\n",
        "mengisi null value / nan dalam data dengan rata rata, mengahapus data duplikasi"
      ]
    },
    {
      "cell_type": "code",
      "execution_count": 5,
      "metadata": {
        "colab": {
          "base_uri": "https://localhost:8080/"
        },
        "id": "GJwGpSwcukDf",
        "outputId": "240e0dc8-f1ff-43d1-bd6b-2a0a0b60a698"
      },
      "outputs": [
        {
          "data": {
            "text/plain": [
              "age           0\n",
              "sex           0\n",
              "cp            0\n",
              "trestbps      1\n",
              "chol         23\n",
              "fbs           8\n",
              "restecg       1\n",
              "thalach       1\n",
              "exang         1\n",
              "oldpeak       0\n",
              "slope       190\n",
              "ca          290\n",
              "thal        266\n",
              "target        0\n",
              "dtype: int64"
            ]
          },
          "execution_count": 5,
          "metadata": {},
          "output_type": "execute_result"
        }
      ],
      "source": [
        "data_filtered.isnull().sum()"
      ]
    },
    {
      "cell_type": "code",
      "execution_count": 6,
      "metadata": {},
      "outputs": [
        {
          "data": {
            "text/plain": [
              "age          0\n",
              "sex          0\n",
              "cp           0\n",
              "trestbps     1\n",
              "chol        23\n",
              "fbs          8\n",
              "restecg      1\n",
              "thalach      1\n",
              "exang        1\n",
              "oldpeak      0\n",
              "target       0\n",
              "dtype: int64"
            ]
          },
          "execution_count": 6,
          "metadata": {},
          "output_type": "execute_result"
        }
      ],
      "source": [
        "data_filtered = data_filtered.drop('slope', axis=1).drop('ca', axis=1).drop('thal', axis=1)\n",
        "data_filtered.isnull().sum()"
      ]
    },
    {
      "cell_type": "code",
      "execution_count": 7,
      "metadata": {
        "id": "RWrXRpfUvKOA"
      },
      "outputs": [],
      "source": [
        "meanTrestbps = round(data_filtered.trestbps.dropna().mean())\n",
        "meanChol = round(data_filtered.chol.dropna().mean())\n",
        "meanFbs = round(data_filtered.fbs.dropna().mean())\n",
        "meanRestecg = round(data_filtered.restecg.dropna().mean())\n",
        "meanThalach = round(data_filtered.thalach.dropna().mean())\n",
        "meanExang = round(data_filtered.exang.dropna().mean())"
      ]
    },
    {
      "cell_type": "code",
      "execution_count": 8,
      "metadata": {
        "colab": {
          "base_uri": "https://localhost:8080/",
          "height": 206
        },
        "id": "YtK963UCwquX",
        "outputId": "00dfeb49-0f9d-4654-f240-ee6e5a17ef79"
      },
      "outputs": [
        {
          "data": {
            "text/html": [
              "<div>\n",
              "<style scoped>\n",
              "    .dataframe tbody tr th:only-of-type {\n",
              "        vertical-align: middle;\n",
              "    }\n",
              "\n",
              "    .dataframe tbody tr th {\n",
              "        vertical-align: top;\n",
              "    }\n",
              "\n",
              "    .dataframe thead th {\n",
              "        text-align: right;\n",
              "    }\n",
              "</style>\n",
              "<table border=\"1\" class=\"dataframe\">\n",
              "  <thead>\n",
              "    <tr style=\"text-align: right;\">\n",
              "      <th></th>\n",
              "      <th>age</th>\n",
              "      <th>sex</th>\n",
              "      <th>cp</th>\n",
              "      <th>trestbps</th>\n",
              "      <th>chol</th>\n",
              "      <th>fbs</th>\n",
              "      <th>restecg</th>\n",
              "      <th>thalach</th>\n",
              "      <th>exang</th>\n",
              "      <th>oldpeak</th>\n",
              "      <th>target</th>\n",
              "    </tr>\n",
              "  </thead>\n",
              "  <tbody>\n",
              "    <tr>\n",
              "      <th>0</th>\n",
              "      <td>40.0</td>\n",
              "      <td>1.0</td>\n",
              "      <td>2.0</td>\n",
              "      <td>140.0</td>\n",
              "      <td>289.0</td>\n",
              "      <td>0.0</td>\n",
              "      <td>0.0</td>\n",
              "      <td>172.0</td>\n",
              "      <td>0.0</td>\n",
              "      <td>0.0</td>\n",
              "      <td>0.0</td>\n",
              "    </tr>\n",
              "    <tr>\n",
              "      <th>1</th>\n",
              "      <td>49.0</td>\n",
              "      <td>0.0</td>\n",
              "      <td>3.0</td>\n",
              "      <td>160.0</td>\n",
              "      <td>180.0</td>\n",
              "      <td>0.0</td>\n",
              "      <td>0.0</td>\n",
              "      <td>156.0</td>\n",
              "      <td>0.0</td>\n",
              "      <td>1.0</td>\n",
              "      <td>1.0</td>\n",
              "    </tr>\n",
              "    <tr>\n",
              "      <th>2</th>\n",
              "      <td>37.0</td>\n",
              "      <td>1.0</td>\n",
              "      <td>2.0</td>\n",
              "      <td>130.0</td>\n",
              "      <td>283.0</td>\n",
              "      <td>0.0</td>\n",
              "      <td>1.0</td>\n",
              "      <td>98.0</td>\n",
              "      <td>0.0</td>\n",
              "      <td>0.0</td>\n",
              "      <td>0.0</td>\n",
              "    </tr>\n",
              "    <tr>\n",
              "      <th>3</th>\n",
              "      <td>48.0</td>\n",
              "      <td>0.0</td>\n",
              "      <td>4.0</td>\n",
              "      <td>138.0</td>\n",
              "      <td>214.0</td>\n",
              "      <td>0.0</td>\n",
              "      <td>0.0</td>\n",
              "      <td>108.0</td>\n",
              "      <td>1.0</td>\n",
              "      <td>1.5</td>\n",
              "      <td>3.0</td>\n",
              "    </tr>\n",
              "    <tr>\n",
              "      <th>4</th>\n",
              "      <td>54.0</td>\n",
              "      <td>1.0</td>\n",
              "      <td>3.0</td>\n",
              "      <td>150.0</td>\n",
              "      <td>251.0</td>\n",
              "      <td>0.0</td>\n",
              "      <td>0.0</td>\n",
              "      <td>122.0</td>\n",
              "      <td>0.0</td>\n",
              "      <td>0.0</td>\n",
              "      <td>0.0</td>\n",
              "    </tr>\n",
              "  </tbody>\n",
              "</table>\n",
              "</div>"
            ],
            "text/plain": [
              "    age  sex   cp  trestbps   chol  fbs  restecg  thalach  exang  oldpeak  \\\n",
              "0  40.0  1.0  2.0     140.0  289.0  0.0      0.0    172.0    0.0      0.0   \n",
              "1  49.0  0.0  3.0     160.0  180.0  0.0      0.0    156.0    0.0      1.0   \n",
              "2  37.0  1.0  2.0     130.0  283.0  0.0      1.0     98.0    0.0      0.0   \n",
              "3  48.0  0.0  4.0     138.0  214.0  0.0      0.0    108.0    1.0      1.5   \n",
              "4  54.0  1.0  3.0     150.0  251.0  0.0      0.0    122.0    0.0      0.0   \n",
              "\n",
              "   target  \n",
              "0     0.0  \n",
              "1     1.0  \n",
              "2     0.0  \n",
              "3     3.0  \n",
              "4     0.0  "
            ]
          },
          "execution_count": 8,
          "metadata": {},
          "output_type": "execute_result"
        }
      ],
      "source": [
        "mean_values = {\n",
        "    'trestbps': meanTrestbps,\n",
        "    'chol': meanChol,\n",
        "    'fbs': meanFbs,\n",
        "    'restecg': meanRestecg,\n",
        "    'thalach': meanThalach,\n",
        "    'exang': meanExang,\n",
        "}\n",
        "\n",
        "data_cleaned = data_filtered.fillna(value=mean_values)\n",
        "data_cleaned.head()"
      ]
    },
    {
      "cell_type": "code",
      "execution_count": 9,
      "metadata": {
        "colab": {
          "base_uri": "https://localhost:8080/"
        },
        "id": "F_BW8B7vxhzQ",
        "outputId": "3d4a6dda-f4ef-41c4-f3a2-73f0cc5072d1"
      },
      "outputs": [
        {
          "data": {
            "text/plain": [
              "age         0\n",
              "sex         0\n",
              "cp          0\n",
              "trestbps    0\n",
              "chol        0\n",
              "fbs         0\n",
              "restecg     0\n",
              "thalach     0\n",
              "exang       0\n",
              "oldpeak     0\n",
              "target      0\n",
              "dtype: int64"
            ]
          },
          "execution_count": 9,
          "metadata": {},
          "output_type": "execute_result"
        }
      ],
      "source": [
        "data_cleaned.isnull().sum()"
      ]
    },
    {
      "cell_type": "code",
      "execution_count": 10,
      "metadata": {
        "colab": {
          "base_uri": "https://localhost:8080/",
          "height": 206
        },
        "id": "7ZdOav_Vx5J_",
        "outputId": "69e951ee-ae3e-42d7-c3da-6c255f4c9c34"
      },
      "outputs": [
        {
          "data": {
            "text/html": [
              "<div>\n",
              "<style scoped>\n",
              "    .dataframe tbody tr th:only-of-type {\n",
              "        vertical-align: middle;\n",
              "    }\n",
              "\n",
              "    .dataframe tbody tr th {\n",
              "        vertical-align: top;\n",
              "    }\n",
              "\n",
              "    .dataframe thead th {\n",
              "        text-align: right;\n",
              "    }\n",
              "</style>\n",
              "<table border=\"1\" class=\"dataframe\">\n",
              "  <thead>\n",
              "    <tr style=\"text-align: right;\">\n",
              "      <th></th>\n",
              "      <th>age</th>\n",
              "      <th>sex</th>\n",
              "      <th>cp</th>\n",
              "      <th>trestbps</th>\n",
              "      <th>chol</th>\n",
              "      <th>fbs</th>\n",
              "      <th>restecg</th>\n",
              "      <th>thalach</th>\n",
              "      <th>exang</th>\n",
              "      <th>oldpeak</th>\n",
              "      <th>target</th>\n",
              "    </tr>\n",
              "  </thead>\n",
              "  <tbody>\n",
              "    <tr>\n",
              "      <th>0</th>\n",
              "      <td>40.0</td>\n",
              "      <td>1.0</td>\n",
              "      <td>2.0</td>\n",
              "      <td>140.0</td>\n",
              "      <td>289.0</td>\n",
              "      <td>0.0</td>\n",
              "      <td>0.0</td>\n",
              "      <td>172.0</td>\n",
              "      <td>0.0</td>\n",
              "      <td>0.0</td>\n",
              "      <td>0.0</td>\n",
              "    </tr>\n",
              "    <tr>\n",
              "      <th>1</th>\n",
              "      <td>49.0</td>\n",
              "      <td>0.0</td>\n",
              "      <td>3.0</td>\n",
              "      <td>160.0</td>\n",
              "      <td>180.0</td>\n",
              "      <td>0.0</td>\n",
              "      <td>0.0</td>\n",
              "      <td>156.0</td>\n",
              "      <td>0.0</td>\n",
              "      <td>1.0</td>\n",
              "      <td>1.0</td>\n",
              "    </tr>\n",
              "    <tr>\n",
              "      <th>2</th>\n",
              "      <td>37.0</td>\n",
              "      <td>1.0</td>\n",
              "      <td>2.0</td>\n",
              "      <td>130.0</td>\n",
              "      <td>283.0</td>\n",
              "      <td>0.0</td>\n",
              "      <td>1.0</td>\n",
              "      <td>98.0</td>\n",
              "      <td>0.0</td>\n",
              "      <td>0.0</td>\n",
              "      <td>0.0</td>\n",
              "    </tr>\n",
              "    <tr>\n",
              "      <th>3</th>\n",
              "      <td>48.0</td>\n",
              "      <td>0.0</td>\n",
              "      <td>4.0</td>\n",
              "      <td>138.0</td>\n",
              "      <td>214.0</td>\n",
              "      <td>0.0</td>\n",
              "      <td>0.0</td>\n",
              "      <td>108.0</td>\n",
              "      <td>1.0</td>\n",
              "      <td>1.5</td>\n",
              "      <td>3.0</td>\n",
              "    </tr>\n",
              "    <tr>\n",
              "      <th>4</th>\n",
              "      <td>54.0</td>\n",
              "      <td>1.0</td>\n",
              "      <td>3.0</td>\n",
              "      <td>150.0</td>\n",
              "      <td>251.0</td>\n",
              "      <td>0.0</td>\n",
              "      <td>0.0</td>\n",
              "      <td>122.0</td>\n",
              "      <td>0.0</td>\n",
              "      <td>0.0</td>\n",
              "      <td>0.0</td>\n",
              "    </tr>\n",
              "  </tbody>\n",
              "</table>\n",
              "</div>"
            ],
            "text/plain": [
              "    age  sex   cp  trestbps   chol  fbs  restecg  thalach  exang  oldpeak  \\\n",
              "0  40.0  1.0  2.0     140.0  289.0  0.0      0.0    172.0    0.0      0.0   \n",
              "1  49.0  0.0  3.0     160.0  180.0  0.0      0.0    156.0    0.0      1.0   \n",
              "2  37.0  1.0  2.0     130.0  283.0  0.0      1.0     98.0    0.0      0.0   \n",
              "3  48.0  0.0  4.0     138.0  214.0  0.0      0.0    108.0    1.0      1.5   \n",
              "4  54.0  1.0  3.0     150.0  251.0  0.0      0.0    122.0    0.0      0.0   \n",
              "\n",
              "   target  \n",
              "0     0.0  \n",
              "1     1.0  \n",
              "2     0.0  \n",
              "3     3.0  \n",
              "4     0.0  "
            ]
          },
          "execution_count": 10,
          "metadata": {},
          "output_type": "execute_result"
        }
      ],
      "source": [
        "data_cleaned = data_cleaned.drop_duplicates()\n",
        "data_cleaned.head()"
      ]
    },
    {
      "cell_type": "code",
      "execution_count": 11,
      "metadata": {
        "colab": {
          "base_uri": "https://localhost:8080/",
          "height": 853
        },
        "id": "yAzDIUaxzBX3",
        "outputId": "bb34e2b3-b624-4f59-cd35-f62a5016b1e7"
      },
      "outputs": [
        {
          "data": {
            "text/plain": [
              "<Axes: >"
            ]
          },
          "execution_count": 11,
          "metadata": {},
          "output_type": "execute_result"
        },
        {
          "data": {
            "image/png": "[encoded data removed]",
            "text/plain": [
              "<Figure size 1500x1000 with 2 Axes>"
            ]
          },
          "metadata": {},
          "output_type": "display_data"
        }
      ],
      "source": [
        "cor_mat=data_cleaned.corr()\n",
        "fig,ax=plt.subplots(figsize=(15,10))\n",
        "sns.heatmap(cor_mat,annot=True,linewidths=0.5,fmt=\".3f\")"
      ]
    },
    {
      "cell_type": "markdown",
      "metadata": {
        "id": "c61b1zs60DtR"
      },
      "source": [
        "# 6.Konstruksi Data\n",
        "penyesuaian fitur data, pemisahan label dengan fitur, penanganan data inbalance, normalisasi data"
      ]
    },
    {
      "cell_type": "code",
      "execution_count": 12,
      "metadata": {
        "id": "W1AmTYi30aDX"
      },
      "outputs": [],
      "source": [
        "X = data_cleaned.drop(\"target\",axis=1).values\n",
        "y = data_cleaned.iloc[:,-1]"
      ]
    },
    {
      "cell_type": "code",
      "execution_count": 13,
      "metadata": {
        "colab": {
          "base_uri": "https://localhost:8080/",
          "height": 553
        },
        "id": "tIZVg7uHmj9M",
        "outputId": "1fae0b0f-2b44-465a-b1fb-665e0013b19f"
      },
      "outputs": [
        {
          "name": "stdout",
          "output_type": "stream",
          "text": [
            "target\n",
            "0.0    187\n",
            "1.0     37\n",
            "3.0     28\n",
            "2.0     26\n",
            "4.0     15\n",
            "Name: count, dtype: int64\n"
          ]
        },
        {
          "data": {
            "image/png": "[encoded data removed]",
            "text/plain": [
              "<Figure size 640x480 with 1 Axes>"
            ]
          },
          "metadata": {},
          "output_type": "display_data"
        }
      ],
      "source": [
        "print(data_cleaned['target'].value_counts())\n",
        "\n",
        "sns.countplot(x=\"target\", data=data_cleaned)\n",
        "plt.show()"
      ]
    },
    {
      "cell_type": "code",
      "execution_count": 14,
      "metadata": {},
      "outputs": [],
      "source": [
        "# Oversampling\n",
        "ros = RandomOverSampler()\n",
        "X_ros, y_ros = ros.fit_resample(X, y)\n",
        "\n",
        "# Undersampling\n",
        "rus = RandomUnderSampler()\n",
        "X_rus, y_rus = rus.fit_resample(X, y)"
      ]
    },
    {
      "cell_type": "code",
      "execution_count": 15,
      "metadata": {
        "colab": {
          "base_uri": "https://localhost:8080/",
          "height": 607
        },
        "id": "-ti2A3Z4nY_M",
        "outputId": "22f733ec-2d39-4099-a0ec-e2dbef70e662"
      },
      "outputs": [
        {
          "data": {
            "image/png": "[encoded data removed]",
            "text/plain": [
              "<Figure size 1000x600 with 3 Axes>"
            ]
          },
          "metadata": {},
          "output_type": "display_data"
        }
      ],
      "source": [
        "plt.figure(figsize=(12, 12))\n",
        "\n",
        "# Subplot 1\n",
        "plt.subplot(2, 2, 1)\n",
        "label = pd.DataFrame(data=y)\n",
        "label.value_counts().plot(kind='bar', figsize=(10, 6), color=['green', 'blue', 'red', 'yellow', 'black'])\n",
        "plt.title(\"Original\")\n",
        "plt.xticks(rotation=0)\n",
        "\n",
        "# Subplot 2\n",
        "plt.subplot(2, 2, 2)\n",
        "label_smote = pd.DataFrame(data=y_ros)\n",
        "label_smote.value_counts().plot(kind='bar', figsize=(10, 6), color=['green', 'blue', 'red', 'yellow', 'black'])\n",
        "plt.title(\"Label after Random Over Sampling\")\n",
        "plt.xticks(rotation=0)\n",
        "plt.tight_layout()\n",
        "\n",
        "# Subplot 3\n",
        "plt.subplot(2, 2, 3)\n",
        "label_tomekLinks = pd.DataFrame(data=y_rus)\n",
        "label_tomekLinks.value_counts().plot(kind='bar', figsize=(10, 6), color=['green', 'blue', 'red', 'yellow', 'black'])\n",
        "plt.title(\"Label after Random Under Sampling\")\n",
        "plt.xticks(rotation=0)\n",
        "plt.tight_layout()\n",
        "\n",
        "plt.show()"
      ]
    },
    {
      "cell_type": "code",
      "execution_count": 16,
      "metadata": {
        "colab": {
          "base_uri": "https://localhost:8080/",
          "height": 300
        },
        "id": "uKVJ-V3d7RbT",
        "outputId": "1b56e5e0-4f54-4fca-9359-e0ea9f9d439c"
      },
      "outputs": [
        {
          "data": {
            "text/html": [
              "<div>\n",
              "<style scoped>\n",
              "    .dataframe tbody tr th:only-of-type {\n",
              "        vertical-align: middle;\n",
              "    }\n",
              "\n",
              "    .dataframe tbody tr th {\n",
              "        vertical-align: top;\n",
              "    }\n",
              "\n",
              "    .dataframe thead th {\n",
              "        text-align: right;\n",
              "    }\n",
              "</style>\n",
              "<table border=\"1\" class=\"dataframe\">\n",
              "  <thead>\n",
              "    <tr style=\"text-align: right;\">\n",
              "      <th></th>\n",
              "      <th>0</th>\n",
              "      <th>1</th>\n",
              "      <th>2</th>\n",
              "      <th>3</th>\n",
              "      <th>4</th>\n",
              "      <th>5</th>\n",
              "      <th>6</th>\n",
              "      <th>7</th>\n",
              "      <th>8</th>\n",
              "      <th>9</th>\n",
              "    </tr>\n",
              "  </thead>\n",
              "  <tbody>\n",
              "    <tr>\n",
              "      <th>count</th>\n",
              "      <td>293.000000</td>\n",
              "      <td>293.000000</td>\n",
              "      <td>293.000000</td>\n",
              "      <td>293.000000</td>\n",
              "      <td>293.000000</td>\n",
              "      <td>293.000000</td>\n",
              "      <td>293.000000</td>\n",
              "      <td>293.000000</td>\n",
              "      <td>293.000000</td>\n",
              "      <td>293.000000</td>\n",
              "    </tr>\n",
              "    <tr>\n",
              "      <th>mean</th>\n",
              "      <td>47.822526</td>\n",
              "      <td>0.726962</td>\n",
              "      <td>2.986348</td>\n",
              "      <td>132.662116</td>\n",
              "      <td>250.860068</td>\n",
              "      <td>0.068259</td>\n",
              "      <td>0.218430</td>\n",
              "      <td>139.058020</td>\n",
              "      <td>0.303754</td>\n",
              "      <td>0.588055</td>\n",
              "    </tr>\n",
              "    <tr>\n",
              "      <th>std</th>\n",
              "      <td>7.824875</td>\n",
              "      <td>0.446282</td>\n",
              "      <td>0.965049</td>\n",
              "      <td>17.576793</td>\n",
              "      <td>65.059069</td>\n",
              "      <td>0.252622</td>\n",
              "      <td>0.460868</td>\n",
              "      <td>23.558003</td>\n",
              "      <td>0.460665</td>\n",
              "      <td>0.909554</td>\n",
              "    </tr>\n",
              "    <tr>\n",
              "      <th>min</th>\n",
              "      <td>28.000000</td>\n",
              "      <td>0.000000</td>\n",
              "      <td>1.000000</td>\n",
              "      <td>92.000000</td>\n",
              "      <td>85.000000</td>\n",
              "      <td>0.000000</td>\n",
              "      <td>0.000000</td>\n",
              "      <td>82.000000</td>\n",
              "      <td>0.000000</td>\n",
              "      <td>0.000000</td>\n",
              "    </tr>\n",
              "    <tr>\n",
              "      <th>25%</th>\n",
              "      <td>42.000000</td>\n",
              "      <td>0.000000</td>\n",
              "      <td>2.000000</td>\n",
              "      <td>120.000000</td>\n",
              "      <td>211.000000</td>\n",
              "      <td>0.000000</td>\n",
              "      <td>0.000000</td>\n",
              "      <td>122.000000</td>\n",
              "      <td>0.000000</td>\n",
              "      <td>0.000000</td>\n",
              "    </tr>\n",
              "    <tr>\n",
              "      <th>50%</th>\n",
              "      <td>49.000000</td>\n",
              "      <td>1.000000</td>\n",
              "      <td>3.000000</td>\n",
              "      <td>130.000000</td>\n",
              "      <td>248.000000</td>\n",
              "      <td>0.000000</td>\n",
              "      <td>0.000000</td>\n",
              "      <td>140.000000</td>\n",
              "      <td>0.000000</td>\n",
              "      <td>0.000000</td>\n",
              "    </tr>\n",
              "    <tr>\n",
              "      <th>75%</th>\n",
              "      <td>54.000000</td>\n",
              "      <td>1.000000</td>\n",
              "      <td>4.000000</td>\n",
              "      <td>140.000000</td>\n",
              "      <td>277.000000</td>\n",
              "      <td>0.000000</td>\n",
              "      <td>0.000000</td>\n",
              "      <td>155.000000</td>\n",
              "      <td>1.000000</td>\n",
              "      <td>1.000000</td>\n",
              "    </tr>\n",
              "    <tr>\n",
              "      <th>max</th>\n",
              "      <td>66.000000</td>\n",
              "      <td>1.000000</td>\n",
              "      <td>4.000000</td>\n",
              "      <td>200.000000</td>\n",
              "      <td>603.000000</td>\n",
              "      <td>1.000000</td>\n",
              "      <td>2.000000</td>\n",
              "      <td>190.000000</td>\n",
              "      <td>1.000000</td>\n",
              "      <td>5.000000</td>\n",
              "    </tr>\n",
              "  </tbody>\n",
              "</table>\n",
              "</div>"
            ],
            "text/plain": [
              "                0           1           2           3           4           5  \\\n",
              "count  293.000000  293.000000  293.000000  293.000000  293.000000  293.000000   \n",
              "mean    47.822526    0.726962    2.986348  132.662116  250.860068    0.068259   \n",
              "std      7.824875    0.446282    0.965049   17.576793   65.059069    0.252622   \n",
              "min     28.000000    0.000000    1.000000   92.000000   85.000000    0.000000   \n",
              "25%     42.000000    0.000000    2.000000  120.000000  211.000000    0.000000   \n",
              "50%     49.000000    1.000000    3.000000  130.000000  248.000000    0.000000   \n",
              "75%     54.000000    1.000000    4.000000  140.000000  277.000000    0.000000   \n",
              "max     66.000000    1.000000    4.000000  200.000000  603.000000    1.000000   \n",
              "\n",
              "                6           7           8           9  \n",
              "count  293.000000  293.000000  293.000000  293.000000  \n",
              "mean     0.218430  139.058020    0.303754    0.588055  \n",
              "std      0.460868   23.558003    0.460665    0.909554  \n",
              "min      0.000000   82.000000    0.000000    0.000000  \n",
              "25%      0.000000  122.000000    0.000000    0.000000  \n",
              "50%      0.000000  140.000000    0.000000    0.000000  \n",
              "75%      0.000000  155.000000    1.000000    1.000000  \n",
              "max      2.000000  190.000000    1.000000    5.000000  "
            ]
          },
          "execution_count": 16,
          "metadata": {},
          "output_type": "execute_result"
        }
      ],
      "source": [
        "temp = pd.DataFrame(X)\n",
        "temp.describe()"
      ]
    },
    {
      "cell_type": "code",
      "execution_count": 17,
      "metadata": {
        "id": "GZ49U3RTp-GV"
      },
      "outputs": [],
      "source": [
        "scaler = MinMaxScaler()\n",
        "X = scaler.fit_transform(X)\n",
        "X_ros = scaler.fit_transform(X_ros)\n",
        "X_rus = scaler.fit_transform(X_rus)"
      ]
    },
    {
      "cell_type": "code",
      "execution_count": 18,
      "metadata": {
        "colab": {
          "base_uri": "https://localhost:8080/",
          "height": 300
        },
        "id": "Zaz9l0IHrobe",
        "outputId": "2d5cc3ca-dc17-4f2d-fe67-9ea616ef852d"
      },
      "outputs": [
        {
          "data": {
            "text/html": [
              "<div>\n",
              "<style scoped>\n",
              "    .dataframe tbody tr th:only-of-type {\n",
              "        vertical-align: middle;\n",
              "    }\n",
              "\n",
              "    .dataframe tbody tr th {\n",
              "        vertical-align: top;\n",
              "    }\n",
              "\n",
              "    .dataframe thead th {\n",
              "        text-align: right;\n",
              "    }\n",
              "</style>\n",
              "<table border=\"1\" class=\"dataframe\">\n",
              "  <thead>\n",
              "    <tr style=\"text-align: right;\">\n",
              "      <th></th>\n",
              "      <th>0</th>\n",
              "      <th>1</th>\n",
              "      <th>2</th>\n",
              "      <th>3</th>\n",
              "      <th>4</th>\n",
              "      <th>5</th>\n",
              "      <th>6</th>\n",
              "      <th>7</th>\n",
              "      <th>8</th>\n",
              "      <th>9</th>\n",
              "    </tr>\n",
              "  </thead>\n",
              "  <tbody>\n",
              "    <tr>\n",
              "      <th>count</th>\n",
              "      <td>293.000000</td>\n",
              "      <td>293.000000</td>\n",
              "      <td>293.000000</td>\n",
              "      <td>293.000000</td>\n",
              "      <td>293.000000</td>\n",
              "      <td>293.000000</td>\n",
              "      <td>293.000000</td>\n",
              "      <td>293.000000</td>\n",
              "      <td>293.000000</td>\n",
              "      <td>293.000000</td>\n",
              "    </tr>\n",
              "    <tr>\n",
              "      <th>mean</th>\n",
              "      <td>0.521645</td>\n",
              "      <td>0.726962</td>\n",
              "      <td>0.662116</td>\n",
              "      <td>0.376501</td>\n",
              "      <td>0.320193</td>\n",
              "      <td>0.068259</td>\n",
              "      <td>0.109215</td>\n",
              "      <td>0.528315</td>\n",
              "      <td>0.303754</td>\n",
              "      <td>0.117611</td>\n",
              "    </tr>\n",
              "    <tr>\n",
              "      <th>std</th>\n",
              "      <td>0.205918</td>\n",
              "      <td>0.446282</td>\n",
              "      <td>0.321683</td>\n",
              "      <td>0.162748</td>\n",
              "      <td>0.125597</td>\n",
              "      <td>0.252622</td>\n",
              "      <td>0.230434</td>\n",
              "      <td>0.218130</td>\n",
              "      <td>0.460665</td>\n",
              "      <td>0.181911</td>\n",
              "    </tr>\n",
              "    <tr>\n",
              "      <th>min</th>\n",
              "      <td>0.000000</td>\n",
              "      <td>0.000000</td>\n",
              "      <td>0.000000</td>\n",
              "      <td>0.000000</td>\n",
              "      <td>0.000000</td>\n",
              "      <td>0.000000</td>\n",
              "      <td>0.000000</td>\n",
              "      <td>0.000000</td>\n",
              "      <td>0.000000</td>\n",
              "      <td>0.000000</td>\n",
              "    </tr>\n",
              "    <tr>\n",
              "      <th>25%</th>\n",
              "      <td>0.368421</td>\n",
              "      <td>0.000000</td>\n",
              "      <td>0.333333</td>\n",
              "      <td>0.259259</td>\n",
              "      <td>0.243243</td>\n",
              "      <td>0.000000</td>\n",
              "      <td>0.000000</td>\n",
              "      <td>0.370370</td>\n",
              "      <td>0.000000</td>\n",
              "      <td>0.000000</td>\n",
              "    </tr>\n",
              "    <tr>\n",
              "      <th>50%</th>\n",
              "      <td>0.552632</td>\n",
              "      <td>1.000000</td>\n",
              "      <td>0.666667</td>\n",
              "      <td>0.351852</td>\n",
              "      <td>0.314672</td>\n",
              "      <td>0.000000</td>\n",
              "      <td>0.000000</td>\n",
              "      <td>0.537037</td>\n",
              "      <td>0.000000</td>\n",
              "      <td>0.000000</td>\n",
              "    </tr>\n",
              "    <tr>\n",
              "      <th>75%</th>\n",
              "      <td>0.684211</td>\n",
              "      <td>1.000000</td>\n",
              "      <td>1.000000</td>\n",
              "      <td>0.444444</td>\n",
              "      <td>0.370656</td>\n",
              "      <td>0.000000</td>\n",
              "      <td>0.000000</td>\n",
              "      <td>0.675926</td>\n",
              "      <td>1.000000</td>\n",
              "      <td>0.200000</td>\n",
              "    </tr>\n",
              "    <tr>\n",
              "      <th>max</th>\n",
              "      <td>1.000000</td>\n",
              "      <td>1.000000</td>\n",
              "      <td>1.000000</td>\n",
              "      <td>1.000000</td>\n",
              "      <td>1.000000</td>\n",
              "      <td>1.000000</td>\n",
              "      <td>1.000000</td>\n",
              "      <td>1.000000</td>\n",
              "      <td>1.000000</td>\n",
              "      <td>1.000000</td>\n",
              "    </tr>\n",
              "  </tbody>\n",
              "</table>\n",
              "</div>"
            ],
            "text/plain": [
              "                0           1           2           3           4           5  \\\n",
              "count  293.000000  293.000000  293.000000  293.000000  293.000000  293.000000   \n",
              "mean     0.521645    0.726962    0.662116    0.376501    0.320193    0.068259   \n",
              "std      0.205918    0.446282    0.321683    0.162748    0.125597    0.252622   \n",
              "min      0.000000    0.000000    0.000000    0.000000    0.000000    0.000000   \n",
              "25%      0.368421    0.000000    0.333333    0.259259    0.243243    0.000000   \n",
              "50%      0.552632    1.000000    0.666667    0.351852    0.314672    0.000000   \n",
              "75%      0.684211    1.000000    1.000000    0.444444    0.370656    0.000000   \n",
              "max      1.000000    1.000000    1.000000    1.000000    1.000000    1.000000   \n",
              "\n",
              "                6           7           8           9  \n",
              "count  293.000000  293.000000  293.000000  293.000000  \n",
              "mean     0.109215    0.528315    0.303754    0.117611  \n",
              "std      0.230434    0.218130    0.460665    0.181911  \n",
              "min      0.000000    0.000000    0.000000    0.000000  \n",
              "25%      0.000000    0.370370    0.000000    0.000000  \n",
              "50%      0.000000    0.537037    0.000000    0.000000  \n",
              "75%      0.000000    0.675926    1.000000    0.200000  \n",
              "max      1.000000    1.000000    1.000000    1.000000  "
            ]
          },
          "execution_count": 18,
          "metadata": {},
          "output_type": "execute_result"
        }
      ],
      "source": [
        "temp = pd.DataFrame(X)\n",
        "temp.describe()"
      ]
    },
    {
      "cell_type": "code",
      "execution_count": 19,
      "metadata": {
        "id": "tItOcFRZr3Y0"
      },
      "outputs": [],
      "source": [
        "X_train, X_test, y_train, y_test = train_test_split(X, y, test_size=0.3, random_state=42, stratify=y)\n",
        "X_valid, X_test, y_valid, y_test = train_test_split(X_test, y_test, test_size=0.5, random_state=42, stratify=y_test)\n",
        "\n",
        "\n",
        "X_train_ros, X_test_ros, y_train_ros, y_test_ros = train_test_split(X_ros, y_ros, test_size=0.3, random_state=42,stratify=y_ros)\n",
        "X_valid_ros, X_test_ros, y_valid_ros, y_test_ros = train_test_split(X_test_ros, y_test_ros, test_size=0.5, random_state=42, stratify=y_test_ros)\n",
        "\n",
        "X_train_rus, X_test_rus, y_train_rus, y_test_rus = train_test_split(X_rus, y_rus, test_size=0.3, random_state=42,stratify=y_rus)\n",
        "X_valid_rus, X_test_rus, y_valid_rus, y_test_rus = train_test_split(X_test_rus, y_test_rus, test_size=0.5, random_state=42, stratify=y_test_rus)\n"
      ]
    },
    {
      "cell_type": "markdown",
      "metadata": {
        "id": "Vhvvttet2uwJ"
      },
      "source": [
        "# 7. Model\n"
      ]
    },
    {
      "cell_type": "markdown",
      "metadata": {
        "id": "6e4e0pgW3NjJ"
      },
      "source": [
        "## KNN"
      ]
    },
    {
      "cell_type": "code",
      "execution_count": 20,
      "metadata": {
        "colab": {
          "base_uri": "https://localhost:8080/",
          "height": 75
        },
        "id": "YbSxM4To3AeJ",
        "outputId": "f70e4b60-3ffb-4229-c5c0-d08574bf130c"
      },
      "outputs": [
        {
          "data": {
            "text/html": [
              "<style>#sk-container-id-1 {color: black;}#sk-container-id-1 pre{padding: 0;}#sk-container-id-1 div.sk-toggleable {background-color: white;}#sk-container-id-1 label.sk-toggleable__label {cursor: pointer;display: block;width: 100%;margin-bottom: 0;padding: 0.3em;box-sizing: border-box;text-align: center;}#sk-container-id-1 label.sk-toggleable__label-arrow:before {content: \"▸\";float: left;margin-right: 0.25em;color: #696969;}#sk-container-id-1 label.sk-toggleable__label-arrow:hover:before {color: black;}#sk-container-id-1 div.sk-estimator:hover label.sk-toggleable__label-arrow:before {color: black;}#sk-container-id-1 div.sk-toggleable__content {max-height: 0;max-width: 0;overflow: hidden;text-align: left;background-color: #f0f8ff;}#sk-container-id-1 div.sk-toggleable__content pre {margin: 0.2em;color: black;border-radius: 0.25em;background-color: #f0f8ff;}#sk-container-id-1 input.sk-toggleable__control:checked~div.sk-toggleable__content {max-height: 200px;max-width: 100%;overflow: auto;}#sk-container-id-1 input.sk-toggleable__control:checked~label.sk-toggleable__label-arrow:before {content: \"▾\";}#sk-container-id-1 div.sk-estimator input.sk-toggleable__control:checked~label.sk-toggleable__label {background-color: #d4ebff;}#sk-container-id-1 div.sk-label input.sk-toggleable__control:checked~label.sk-toggleable__label {background-color: #d4ebff;}#sk-container-id-1 input.sk-hidden--visually {border: 0;clip: rect(1px 1px 1px 1px);clip: rect(1px, 1px, 1px, 1px);height: 1px;margin: -1px;overflow: hidden;padding: 0;position: absolute;width: 1px;}#sk-container-id-1 div.sk-estimator {font-family: monospace;background-color: #f0f8ff;border: 1px dotted black;border-radius: 0.25em;box-sizing: border-box;margin-bottom: 0.5em;}#sk-container-id-1 div.sk-estimator:hover {background-color: #d4ebff;}#sk-container-id-1 div.sk-parallel-item::after {content: \"\";width: 100%;border-bottom: 1px solid gray;flex-grow: 1;}#sk-container-id-1 div.sk-label:hover label.sk-toggleable__label {background-color: #d4ebff;}#sk-container-id-1 div.sk-serial::before {content: \"\";position: absolute;border-left: 1px solid gray;box-sizing: border-box;top: 0;bottom: 0;left: 50%;z-index: 0;}#sk-container-id-1 div.sk-serial {display: flex;flex-direction: column;align-items: center;background-color: white;padding-right: 0.2em;padding-left: 0.2em;position: relative;}#sk-container-id-1 div.sk-item {position: relative;z-index: 1;}#sk-container-id-1 div.sk-parallel {display: flex;align-items: stretch;justify-content: center;background-color: white;position: relative;}#sk-container-id-1 div.sk-item::before, #sk-container-id-1 div.sk-parallel-item::before {content: \"\";position: absolute;border-left: 1px solid gray;box-sizing: border-box;top: 0;bottom: 0;left: 50%;z-index: -1;}#sk-container-id-1 div.sk-parallel-item {display: flex;flex-direction: column;z-index: 1;position: relative;background-color: white;}#sk-container-id-1 div.sk-parallel-item:first-child::after {align-self: flex-end;width: 50%;}#sk-container-id-1 div.sk-parallel-item:last-child::after {align-self: flex-start;width: 50%;}#sk-container-id-1 div.sk-parallel-item:only-child::after {width: 0;}#sk-container-id-1 div.sk-dashed-wrapped {border: 1px dashed gray;margin: 0 0.4em 0.5em 0.4em;box-sizing: border-box;padding-bottom: 0.4em;background-color: white;}#sk-container-id-1 div.sk-label label {font-family: monospace;font-weight: bold;display: inline-block;line-height: 1.2em;}#sk-container-id-1 div.sk-label-container {text-align: center;}#sk-container-id-1 div.sk-container {/* jupyter's `normalize.less` sets `[hidden] { display: none; }` but bootstrap.min.css set `[hidden] { display: none !important; }` so we also need the `!important` here to be able to override the default hidden behavior on the sphinx rendered scikit-learn.org. See: https://github.com/scikit-learn/scikit-learn/issues/21755 */display: inline-block !important;position: relative;}#sk-container-id-1 div.sk-text-repr-fallback {display: none;}</style><div id=\"sk-container-id-1\" class=\"sk-top-container\"><div class=\"sk-text-repr-fallback\"><pre>KNeighborsClassifier(n_neighbors=3)</pre><b>In a Jupyter environment, please rerun this cell to show the HTML representation or trust the notebook. <br />On GitHub, the HTML representation is unable to render, please try loading this page with nbviewer.org.</b></div><div class=\"sk-container\" hidden><div class=\"sk-item\"><div class=\"sk-estimator sk-toggleable\"><input class=\"sk-toggleable__control sk-hidden--visually\" id=\"sk-estimator-id-1\" type=\"checkbox\" checked><label for=\"sk-estimator-id-1\" class=\"sk-toggleable__label sk-toggleable__label-arrow\">KNeighborsClassifier</label><div class=\"sk-toggleable__content\"><pre>KNeighborsClassifier(n_neighbors=3)</pre></div></div></div></div></div>"
            ],
            "text/plain": [
              "KNeighborsClassifier(n_neighbors=3)"
            ]
          },
          "execution_count": 20,
          "metadata": {},
          "output_type": "execute_result"
        }
      ],
      "source": [
        "knn_model = KNeighborsClassifier(n_neighbors = 3)\n",
        "knn_model.fit(X_train, y_train)\n",
        "\n",
        "knn_model_ros = KNeighborsClassifier(n_neighbors = 3)\n",
        "knn_model_ros.fit(X_train_ros, y_train_ros)\n",
        "\n",
        "knn_model_rus = KNeighborsClassifier(n_neighbors = 3)\n",
        "knn_model_rus.fit(X_train_rus, y_train_rus)"
      ]
    },
    {
      "cell_type": "code",
      "execution_count": 21,
      "metadata": {},
      "outputs": [
        {
          "name": "stdout",
          "output_type": "stream",
          "text": [
            "Accuracy KNN Original Dataset: 0.636\n",
            "Accuracy KNN Random Over Sampling Dataset: 0.943\n",
            "Accuracy KNN Random Under Sampling Dataset: 0.25\n"
          ]
        }
      ],
      "source": [
        "y_pred_knn = knn_model.predict(X_test)\n",
        "accuracy_knn = round(accuracy_score(y_test,y_pred_knn),3)\n",
        "print(\"Accuracy KNN Original Dataset:\", accuracy_knn)\n",
        "\n",
        "y_pred_knn_ros = knn_model_ros.predict(X_test_ros)\n",
        "accuracy_knn_ros = round(accuracy_score(y_test_ros,y_pred_knn_ros),3)\n",
        "print(\"Accuracy KNN Random Over Sampling Dataset:\", accuracy_knn_ros)\n",
        "\n",
        "y_pred_knn_rus = knn_model_rus.predict(X_test_rus)\n",
        "accuracy_knn_rus = round(accuracy_score(y_test_rus,y_pred_knn_rus),3)\n",
        "print(\"Accuracy KNN Random Under Sampling Dataset:\", accuracy_knn_rus)"
      ]
    },
    {
      "cell_type": "code",
      "execution_count": 22,
      "metadata": {},
      "outputs": [
        {
          "name": "stdout",
          "output_type": "stream",
          "text": [
            "Classification Report:\n",
            "              precision    recall  f1-score   support\n",
            "\n",
            "         0.0       0.76      0.93      0.84        28\n",
            "         1.0       0.29      0.33      0.31         6\n",
            "         2.0       0.00      0.00      0.00         4\n",
            "         3.0       0.00      0.00      0.00         4\n",
            "         4.0       0.00      0.00      0.00         2\n",
            "\n",
            "    accuracy                           0.64        44\n",
            "   macro avg       0.21      0.25      0.23        44\n",
            "weighted avg       0.53      0.64      0.58        44\n",
            "\n",
            "Classification Report ROS:\n",
            "              precision    recall  f1-score   support\n",
            "\n",
            "         0.0       1.00      0.71      0.83        28\n",
            "         1.0       0.90      1.00      0.95        28\n",
            "         2.0       0.88      1.00      0.93        28\n",
            "         3.0       1.00      1.00      1.00        29\n",
            "         4.0       0.97      1.00      0.98        28\n",
            "\n",
            "    accuracy                           0.94       141\n",
            "   macro avg       0.95      0.94      0.94       141\n",
            "weighted avg       0.95      0.94      0.94       141\n",
            "\n",
            "Classification Report RUS:\n",
            "              precision    recall  f1-score   support\n",
            "\n",
            "         0.0       0.43      1.00      0.60         3\n",
            "         1.0       0.00      0.00      0.00         2\n",
            "         2.0       0.00      0.00      0.00         2\n",
            "         3.0       0.00      0.00      0.00         3\n",
            "         4.0       0.00      0.00      0.00         2\n",
            "\n",
            "    accuracy                           0.25        12\n",
            "   macro avg       0.09      0.20      0.12        12\n",
            "weighted avg       0.11      0.25      0.15        12\n",
            "\n"
          ]
        },
        {
          "name": "stderr",
          "output_type": "stream",
          "text": [
            "d:\\Conda\\envs\\ML\\lib\\site-packages\\sklearn\\metrics\\_classification.py:1471: UndefinedMetricWarning: Precision and F-score are ill-defined and being set to 0.0 in labels with no predicted samples. Use `zero_division` parameter to control this behavior.\n",
            "  _warn_prf(average, modifier, msg_start, len(result))\n",
            "d:\\Conda\\envs\\ML\\lib\\site-packages\\sklearn\\metrics\\_classification.py:1471: UndefinedMetricWarning: Precision and F-score are ill-defined and being set to 0.0 in labels with no predicted samples. Use `zero_division` parameter to control this behavior.\n",
            "  _warn_prf(average, modifier, msg_start, len(result))\n",
            "d:\\Conda\\envs\\ML\\lib\\site-packages\\sklearn\\metrics\\_classification.py:1471: UndefinedMetricWarning: Precision and F-score are ill-defined and being set to 0.0 in labels with no predicted samples. Use `zero_division` parameter to control this behavior.\n",
            "  _warn_prf(average, modifier, msg_start, len(result))\n",
            "d:\\Conda\\envs\\ML\\lib\\site-packages\\sklearn\\metrics\\_classification.py:1471: UndefinedMetricWarning: Precision and F-score are ill-defined and being set to 0.0 in labels with no predicted samples. Use `zero_division` parameter to control this behavior.\n",
            "  _warn_prf(average, modifier, msg_start, len(result))\n",
            "d:\\Conda\\envs\\ML\\lib\\site-packages\\sklearn\\metrics\\_classification.py:1471: UndefinedMetricWarning: Precision and F-score are ill-defined and being set to 0.0 in labels with no predicted samples. Use `zero_division` parameter to control this behavior.\n",
            "  _warn_prf(average, modifier, msg_start, len(result))\n",
            "d:\\Conda\\envs\\ML\\lib\\site-packages\\sklearn\\metrics\\_classification.py:1471: UndefinedMetricWarning: Precision and F-score are ill-defined and being set to 0.0 in labels with no predicted samples. Use `zero_division` parameter to control this behavior.\n",
            "  _warn_prf(average, modifier, msg_start, len(result))\n"
          ]
        }
      ],
      "source": [
        "print(\"Classification Report:\")\n",
        "print(classification_report(y_test, y_pred_knn))\n",
        "\n",
        "print(\"Classification Report ROS:\")\n",
        "print(classification_report(y_test_ros, y_pred_knn_ros))\n",
        "\n",
        "print(\"Classification Report RUS:\")\n",
        "print(classification_report(y_test_rus, y_pred_knn_rus))"
      ]
    },
    {
      "cell_type": "markdown",
      "metadata": {},
      "source": [
        "## SVM"
      ]
    },
    {
      "cell_type": "code",
      "execution_count": 23,
      "metadata": {},
      "outputs": [
        {
          "data": {
            "text/html": [
              "<style>#sk-container-id-2 {color: black;}#sk-container-id-2 pre{padding: 0;}#sk-container-id-2 div.sk-toggleable {background-color: white;}#sk-container-id-2 label.sk-toggleable__label {cursor: pointer;display: block;width: 100%;margin-bottom: 0;padding: 0.3em;box-sizing: border-box;text-align: center;}#sk-container-id-2 label.sk-toggleable__label-arrow:before {content: \"▸\";float: left;margin-right: 0.25em;color: #696969;}#sk-container-id-2 label.sk-toggleable__label-arrow:hover:before {color: black;}#sk-container-id-2 div.sk-estimator:hover label.sk-toggleable__label-arrow:before {color: black;}#sk-container-id-2 div.sk-toggleable__content {max-height: 0;max-width: 0;overflow: hidden;text-align: left;background-color: #f0f8ff;}#sk-container-id-2 div.sk-toggleable__content pre {margin: 0.2em;color: black;border-radius: 0.25em;background-color: #f0f8ff;}#sk-container-id-2 input.sk-toggleable__control:checked~div.sk-toggleable__content {max-height: 200px;max-width: 100%;overflow: auto;}#sk-container-id-2 input.sk-toggleable__control:checked~label.sk-toggleable__label-arrow:before {content: \"▾\";}#sk-container-id-2 div.sk-estimator input.sk-toggleable__control:checked~label.sk-toggleable__label {background-color: #d4ebff;}#sk-container-id-2 div.sk-label input.sk-toggleable__control:checked~label.sk-toggleable__label {background-color: #d4ebff;}#sk-container-id-2 input.sk-hidden--visually {border: 0;clip: rect(1px 1px 1px 1px);clip: rect(1px, 1px, 1px, 1px);height: 1px;margin: -1px;overflow: hidden;padding: 0;position: absolute;width: 1px;}#sk-container-id-2 div.sk-estimator {font-family: monospace;background-color: #f0f8ff;border: 1px dotted black;border-radius: 0.25em;box-sizing: border-box;margin-bottom: 0.5em;}#sk-container-id-2 div.sk-estimator:hover {background-color: #d4ebff;}#sk-container-id-2 div.sk-parallel-item::after {content: \"\";width: 100%;border-bottom: 1px solid gray;flex-grow: 1;}#sk-container-id-2 div.sk-label:hover label.sk-toggleable__label {background-color: #d4ebff;}#sk-container-id-2 div.sk-serial::before {content: \"\";position: absolute;border-left: 1px solid gray;box-sizing: border-box;top: 0;bottom: 0;left: 50%;z-index: 0;}#sk-container-id-2 div.sk-serial {display: flex;flex-direction: column;align-items: center;background-color: white;padding-right: 0.2em;padding-left: 0.2em;position: relative;}#sk-container-id-2 div.sk-item {position: relative;z-index: 1;}#sk-container-id-2 div.sk-parallel {display: flex;align-items: stretch;justify-content: center;background-color: white;position: relative;}#sk-container-id-2 div.sk-item::before, #sk-container-id-2 div.sk-parallel-item::before {content: \"\";position: absolute;border-left: 1px solid gray;box-sizing: border-box;top: 0;bottom: 0;left: 50%;z-index: -1;}#sk-container-id-2 div.sk-parallel-item {display: flex;flex-direction: column;z-index: 1;position: relative;background-color: white;}#sk-container-id-2 div.sk-parallel-item:first-child::after {align-self: flex-end;width: 50%;}#sk-container-id-2 div.sk-parallel-item:last-child::after {align-self: flex-start;width: 50%;}#sk-container-id-2 div.sk-parallel-item:only-child::after {width: 0;}#sk-container-id-2 div.sk-dashed-wrapped {border: 1px dashed gray;margin: 0 0.4em 0.5em 0.4em;box-sizing: border-box;padding-bottom: 0.4em;background-color: white;}#sk-container-id-2 div.sk-label label {font-family: monospace;font-weight: bold;display: inline-block;line-height: 1.2em;}#sk-container-id-2 div.sk-label-container {text-align: center;}#sk-container-id-2 div.sk-container {/* jupyter's `normalize.less` sets `[hidden] { display: none; }` but bootstrap.min.css set `[hidden] { display: none !important; }` so we also need the `!important` here to be able to override the default hidden behavior on the sphinx rendered scikit-learn.org. See: https://github.com/scikit-learn/scikit-learn/issues/21755 */display: inline-block !important;position: relative;}#sk-container-id-2 div.sk-text-repr-fallback {display: none;}</style><div id=\"sk-container-id-2\" class=\"sk-top-container\"><div class=\"sk-text-repr-fallback\"><pre>SVC()</pre><b>In a Jupyter environment, please rerun this cell to show the HTML representation or trust the notebook. <br />On GitHub, the HTML representation is unable to render, please try loading this page with nbviewer.org.</b></div><div class=\"sk-container\" hidden><div class=\"sk-item\"><div class=\"sk-estimator sk-toggleable\"><input class=\"sk-toggleable__control sk-hidden--visually\" id=\"sk-estimator-id-2\" type=\"checkbox\" checked><label for=\"sk-estimator-id-2\" class=\"sk-toggleable__label sk-toggleable__label-arrow\">SVC</label><div class=\"sk-toggleable__content\"><pre>SVC()</pre></div></div></div></div></div>"
            ],
            "text/plain": [
              "SVC()"
            ]
          },
          "execution_count": 23,
          "metadata": {},
          "output_type": "execute_result"
        }
      ],
      "source": [
        "svm_model = SVC()\n",
        "svm_model.fit(X_train, y_train)\n",
        "\n",
        "svm_model_ros = SVC()\n",
        "svm_model_ros.fit(X_train_ros, y_train_ros)\n",
        "\n",
        "svm_model_rus = SVC()\n",
        "svm_model_rus.fit(X_train_rus, y_train_rus)"
      ]
    },
    {
      "cell_type": "code",
      "execution_count": 24,
      "metadata": {},
      "outputs": [
        {
          "name": "stdout",
          "output_type": "stream",
          "text": [
            "Accuracy SVM Original Dataset: 0.682\n",
            "Accuracy SVM Random Over Sampling Dataset: 0.667\n",
            "Accuracy SVM Random Under Sampling Dataset: 0.417\n"
          ]
        }
      ],
      "source": [
        "y_pred_svm = svm_model.predict(X_test)\n",
        "accuracy_svm = round(accuracy_score(y_test,y_pred_svm),3)\n",
        "print(\"Accuracy SVM Original Dataset:\", accuracy_svm)\n",
        "\n",
        "y_pred_svm_ros = svm_model_ros.predict(X_test_ros)\n",
        "accuracy_svm_ros = round(accuracy_score(y_test_ros,y_pred_svm_ros),3)\n",
        "print(\"Accuracy SVM Random Over Sampling Dataset:\", accuracy_svm_ros)\n",
        "\n",
        "y_pred_svm_rus = svm_model_rus.predict(X_test_rus)\n",
        "accuracy_svm_rus = round(accuracy_score(y_test_rus,y_pred_svm_rus),3)\n",
        "print(\"Accuracy SVM Random Under Sampling Dataset:\", accuracy_svm_rus)"
      ]
    },
    {
      "cell_type": "code",
      "execution_count": 25,
      "metadata": {},
      "outputs": [
        {
          "name": "stdout",
          "output_type": "stream",
          "text": [
            "Classification Report:\n",
            "              precision    recall  f1-score   support\n",
            "\n",
            "         0.0       0.79      0.96      0.87        28\n",
            "         1.0       0.00      0.00      0.00         6\n",
            "         2.0       0.29      0.50      0.36         4\n",
            "         3.0       0.33      0.25      0.29         4\n",
            "         4.0       0.00      0.00      0.00         2\n",
            "\n",
            "    accuracy                           0.68        44\n",
            "   macro avg       0.28      0.34      0.30        44\n",
            "weighted avg       0.56      0.68      0.61        44\n",
            "\n",
            "Classification Report ROS:\n",
            "              precision    recall  f1-score   support\n",
            "\n",
            "         0.0       0.87      0.71      0.78        28\n",
            "         1.0       0.59      0.61      0.60        28\n",
            "         2.0       0.55      0.86      0.67        28\n",
            "         3.0       0.67      0.55      0.60        29\n",
            "         4.0       0.81      0.61      0.69        28\n",
            "\n",
            "    accuracy                           0.67       141\n",
            "   macro avg       0.70      0.67      0.67       141\n",
            "weighted avg       0.70      0.67      0.67       141\n",
            "\n",
            "Classification Report RUS:\n",
            "              precision    recall  f1-score   support\n",
            "\n",
            "         0.0       0.50      1.00      0.67         3\n",
            "         1.0       0.00      0.00      0.00         2\n",
            "         2.0       0.00      0.00      0.00         2\n",
            "         3.0       0.00      0.00      0.00         3\n",
            "         4.0       0.40      1.00      0.57         2\n",
            "\n",
            "    accuracy                           0.42        12\n",
            "   macro avg       0.18      0.40      0.25        12\n",
            "weighted avg       0.19      0.42      0.26        12\n",
            "\n"
          ]
        },
        {
          "name": "stderr",
          "output_type": "stream",
          "text": [
            "d:\\Conda\\envs\\ML\\lib\\site-packages\\sklearn\\metrics\\_classification.py:1471: UndefinedMetricWarning: Precision and F-score are ill-defined and being set to 0.0 in labels with no predicted samples. Use `zero_division` parameter to control this behavior.\n",
            "  _warn_prf(average, modifier, msg_start, len(result))\n",
            "d:\\Conda\\envs\\ML\\lib\\site-packages\\sklearn\\metrics\\_classification.py:1471: UndefinedMetricWarning: Precision and F-score are ill-defined and being set to 0.0 in labels with no predicted samples. Use `zero_division` parameter to control this behavior.\n",
            "  _warn_prf(average, modifier, msg_start, len(result))\n",
            "d:\\Conda\\envs\\ML\\lib\\site-packages\\sklearn\\metrics\\_classification.py:1471: UndefinedMetricWarning: Precision and F-score are ill-defined and being set to 0.0 in labels with no predicted samples. Use `zero_division` parameter to control this behavior.\n",
            "  _warn_prf(average, modifier, msg_start, len(result))\n",
            "d:\\Conda\\envs\\ML\\lib\\site-packages\\sklearn\\metrics\\_classification.py:1471: UndefinedMetricWarning: Precision and F-score are ill-defined and being set to 0.0 in labels with no predicted samples. Use `zero_division` parameter to control this behavior.\n",
            "  _warn_prf(average, modifier, msg_start, len(result))\n",
            "d:\\Conda\\envs\\ML\\lib\\site-packages\\sklearn\\metrics\\_classification.py:1471: UndefinedMetricWarning: Precision and F-score are ill-defined and being set to 0.0 in labels with no predicted samples. Use `zero_division` parameter to control this behavior.\n",
            "  _warn_prf(average, modifier, msg_start, len(result))\n",
            "d:\\Conda\\envs\\ML\\lib\\site-packages\\sklearn\\metrics\\_classification.py:1471: UndefinedMetricWarning: Precision and F-score are ill-defined and being set to 0.0 in labels with no predicted samples. Use `zero_division` parameter to control this behavior.\n",
            "  _warn_prf(average, modifier, msg_start, len(result))\n"
          ]
        }
      ],
      "source": [
        "print(\"Classification Report:\")\n",
        "print(classification_report(y_test, y_pred_svm))\n",
        "\n",
        "print(\"Classification Report ROS:\")\n",
        "print(classification_report(y_test_ros, y_pred_svm_ros))\n",
        "\n",
        "print(\"Classification Report RUS:\")\n",
        "print(classification_report(y_test_rus, y_pred_svm_rus))"
      ]
    },
    {
      "cell_type": "markdown",
      "metadata": {},
      "source": [
        "## Decision Tree"
      ]
    },
    {
      "cell_type": "code",
      "execution_count": 26,
      "metadata": {},
      "outputs": [
        {
          "data": {
            "text/html": [
              "<style>#sk-container-id-3 {color: black;}#sk-container-id-3 pre{padding: 0;}#sk-container-id-3 div.sk-toggleable {background-color: white;}#sk-container-id-3 label.sk-toggleable__label {cursor: pointer;display: block;width: 100%;margin-bottom: 0;padding: 0.3em;box-sizing: border-box;text-align: center;}#sk-container-id-3 label.sk-toggleable__label-arrow:before {content: \"▸\";float: left;margin-right: 0.25em;color: #696969;}#sk-container-id-3 label.sk-toggleable__label-arrow:hover:before {color: black;}#sk-container-id-3 div.sk-estimator:hover label.sk-toggleable__label-arrow:before {color: black;}#sk-container-id-3 div.sk-toggleable__content {max-height: 0;max-width: 0;overflow: hidden;text-align: left;background-color: #f0f8ff;}#sk-container-id-3 div.sk-toggleable__content pre {margin: 0.2em;color: black;border-radius: 0.25em;background-color: #f0f8ff;}#sk-container-id-3 input.sk-toggleable__control:checked~div.sk-toggleable__content {max-height: 200px;max-width: 100%;overflow: auto;}#sk-container-id-3 input.sk-toggleable__control:checked~label.sk-toggleable__label-arrow:before {content: \"▾\";}#sk-container-id-3 div.sk-estimator input.sk-toggleable__control:checked~label.sk-toggleable__label {background-color: #d4ebff;}#sk-container-id-3 div.sk-label input.sk-toggleable__control:checked~label.sk-toggleable__label {background-color: #d4ebff;}#sk-container-id-3 input.sk-hidden--visually {border: 0;clip: rect(1px 1px 1px 1px);clip: rect(1px, 1px, 1px, 1px);height: 1px;margin: -1px;overflow: hidden;padding: 0;position: absolute;width: 1px;}#sk-container-id-3 div.sk-estimator {font-family: monospace;background-color: #f0f8ff;border: 1px dotted black;border-radius: 0.25em;box-sizing: border-box;margin-bottom: 0.5em;}#sk-container-id-3 div.sk-estimator:hover {background-color: #d4ebff;}#sk-container-id-3 div.sk-parallel-item::after {content: \"\";width: 100%;border-bottom: 1px solid gray;flex-grow: 1;}#sk-container-id-3 div.sk-label:hover label.sk-toggleable__label {background-color: #d4ebff;}#sk-container-id-3 div.sk-serial::before {content: \"\";position: absolute;border-left: 1px solid gray;box-sizing: border-box;top: 0;bottom: 0;left: 50%;z-index: 0;}#sk-container-id-3 div.sk-serial {display: flex;flex-direction: column;align-items: center;background-color: white;padding-right: 0.2em;padding-left: 0.2em;position: relative;}#sk-container-id-3 div.sk-item {position: relative;z-index: 1;}#sk-container-id-3 div.sk-parallel {display: flex;align-items: stretch;justify-content: center;background-color: white;position: relative;}#sk-container-id-3 div.sk-item::before, #sk-container-id-3 div.sk-parallel-item::before {content: \"\";position: absolute;border-left: 1px solid gray;box-sizing: border-box;top: 0;bottom: 0;left: 50%;z-index: -1;}#sk-container-id-3 div.sk-parallel-item {display: flex;flex-direction: column;z-index: 1;position: relative;background-color: white;}#sk-container-id-3 div.sk-parallel-item:first-child::after {align-self: flex-end;width: 50%;}#sk-container-id-3 div.sk-parallel-item:last-child::after {align-self: flex-start;width: 50%;}#sk-container-id-3 div.sk-parallel-item:only-child::after {width: 0;}#sk-container-id-3 div.sk-dashed-wrapped {border: 1px dashed gray;margin: 0 0.4em 0.5em 0.4em;box-sizing: border-box;padding-bottom: 0.4em;background-color: white;}#sk-container-id-3 div.sk-label label {font-family: monospace;font-weight: bold;display: inline-block;line-height: 1.2em;}#sk-container-id-3 div.sk-label-container {text-align: center;}#sk-container-id-3 div.sk-container {/* jupyter's `normalize.less` sets `[hidden] { display: none; }` but bootstrap.min.css set `[hidden] { display: none !important; }` so we also need the `!important` here to be able to override the default hidden behavior on the sphinx rendered scikit-learn.org. See: https://github.com/scikit-learn/scikit-learn/issues/21755 */display: inline-block !important;position: relative;}#sk-container-id-3 div.sk-text-repr-fallback {display: none;}</style><div id=\"sk-container-id-3\" class=\"sk-top-container\"><div class=\"sk-text-repr-fallback\"><pre>DecisionTreeClassifier()</pre><b>In a Jupyter environment, please rerun this cell to show the HTML representation or trust the notebook. <br />On GitHub, the HTML representation is unable to render, please try loading this page with nbviewer.org.</b></div><div class=\"sk-container\" hidden><div class=\"sk-item\"><div class=\"sk-estimator sk-toggleable\"><input class=\"sk-toggleable__control sk-hidden--visually\" id=\"sk-estimator-id-3\" type=\"checkbox\" checked><label for=\"sk-estimator-id-3\" class=\"sk-toggleable__label sk-toggleable__label-arrow\">DecisionTreeClassifier</label><div class=\"sk-toggleable__content\"><pre>DecisionTreeClassifier()</pre></div></div></div></div></div>"
            ],
            "text/plain": [
              "DecisionTreeClassifier()"
            ]
          },
          "execution_count": 26,
          "metadata": {},
          "output_type": "execute_result"
        }
      ],
      "source": [
        "dt_model = DecisionTreeClassifier()\n",
        "dt_model.fit(X_train, y_train)\n",
        "\n",
        "dt_model_ros = DecisionTreeClassifier()\n",
        "dt_model_ros.fit(X_train_ros, y_train_ros)\n",
        "\n",
        "dt_model_rus = DecisionTreeClassifier()\n",
        "dt_model_rus.fit(X_train_rus, y_train_rus)"
      ]
    },
    {
      "cell_type": "code",
      "execution_count": 27,
      "metadata": {},
      "outputs": [
        {
          "name": "stdout",
          "output_type": "stream",
          "text": [
            "Accuracy Decision Tree Original Dataset: 0.682\n",
            "Accuracy Decision Tree Random Over Sampling Dataset: 0.929\n",
            "Accuracy Decision Tree Random Under Sampling Dataset: 0.5\n"
          ]
        }
      ],
      "source": [
        "y_pred_dt = dt_model.predict(X_test)\n",
        "accuracy_dt = round(accuracy_score(y_test,y_pred_dt),3)\n",
        "print(\"Accuracy Decision Tree Original Dataset:\", accuracy_dt)\n",
        "\n",
        "y_pred_dt_ros = dt_model_ros.predict(X_test_ros)\n",
        "accuracy_dt_ros = round(accuracy_score(y_test_ros,y_pred_dt_ros),3)\n",
        "print(\"Accuracy Decision Tree Random Over Sampling Dataset:\", accuracy_dt_ros)\n",
        "\n",
        "y_pred_dt_rus = dt_model_rus.predict(X_test_rus)\n",
        "accuracy_dt_rus = round(accuracy_score(y_test_rus,y_pred_dt_rus),3)\n",
        "print(\"Accuracy Decision Tree Random Under Sampling Dataset:\", accuracy_dt_rus)"
      ]
    },
    {
      "cell_type": "code",
      "execution_count": 28,
      "metadata": {},
      "outputs": [
        {
          "name": "stdout",
          "output_type": "stream",
          "text": [
            "Classification Report:\n",
            "              precision    recall  f1-score   support\n",
            "\n",
            "         0.0       0.81      0.93      0.87        28\n",
            "         1.0       0.50      0.33      0.40         6\n",
            "         2.0       0.25      0.25      0.25         4\n",
            "         3.0       0.50      0.25      0.33         4\n",
            "         4.0       0.00      0.00      0.00         2\n",
            "\n",
            "    accuracy                           0.68        44\n",
            "   macro avg       0.41      0.35      0.37        44\n",
            "weighted avg       0.65      0.68      0.66        44\n",
            "\n",
            "Classification Report ROS:\n",
            "              precision    recall  f1-score   support\n",
            "\n",
            "         0.0       1.00      0.64      0.78        28\n",
            "         1.0       0.82      1.00      0.90        28\n",
            "         2.0       0.90      1.00      0.95        28\n",
            "         3.0       1.00      1.00      1.00        29\n",
            "         4.0       0.97      1.00      0.98        28\n",
            "\n",
            "    accuracy                           0.93       141\n",
            "   macro avg       0.94      0.93      0.92       141\n",
            "weighted avg       0.94      0.93      0.92       141\n",
            "\n",
            "Classification Report RUS:\n",
            "              precision    recall  f1-score   support\n",
            "\n",
            "         0.0       0.75      1.00      0.86         3\n",
            "         1.0       1.00      0.50      0.67         2\n",
            "         2.0       0.33      0.50      0.40         2\n",
            "         3.0       0.00      0.00      0.00         3\n",
            "         4.0       0.50      0.50      0.50         2\n",
            "\n",
            "    accuracy                           0.50        12\n",
            "   macro avg       0.52      0.50      0.48        12\n",
            "weighted avg       0.49      0.50      0.48        12\n",
            "\n"
          ]
        }
      ],
      "source": [
        "print(\"Classification Report:\")\n",
        "print(classification_report(y_test, y_pred_dt))\n",
        "\n",
        "print(\"Classification Report ROS:\")\n",
        "print(classification_report(y_test_ros, y_pred_dt_ros))\n",
        "\n",
        "print(\"Classification Report RUS:\")\n",
        "print(classification_report(y_test_rus, y_pred_dt_rus))"
      ]
    },
    {
      "cell_type": "markdown",
      "metadata": {},
      "source": [
        "## Random Forest"
      ]
    },
    {
      "cell_type": "code",
      "execution_count": 29,
      "metadata": {},
      "outputs": [
        {
          "data": {
            "text/html": [
              "<style>#sk-container-id-4 {color: black;}#sk-container-id-4 pre{padding: 0;}#sk-container-id-4 div.sk-toggleable {background-color: white;}#sk-container-id-4 label.sk-toggleable__label {cursor: pointer;display: block;width: 100%;margin-bottom: 0;padding: 0.3em;box-sizing: border-box;text-align: center;}#sk-container-id-4 label.sk-toggleable__label-arrow:before {content: \"▸\";float: left;margin-right: 0.25em;color: #696969;}#sk-container-id-4 label.sk-toggleable__label-arrow:hover:before {color: black;}#sk-container-id-4 div.sk-estimator:hover label.sk-toggleable__label-arrow:before {color: black;}#sk-container-id-4 div.sk-toggleable__content {max-height: 0;max-width: 0;overflow: hidden;text-align: left;background-color: #f0f8ff;}#sk-container-id-4 div.sk-toggleable__content pre {margin: 0.2em;color: black;border-radius: 0.25em;background-color: #f0f8ff;}#sk-container-id-4 input.sk-toggleable__control:checked~div.sk-toggleable__content {max-height: 200px;max-width: 100%;overflow: auto;}#sk-container-id-4 input.sk-toggleable__control:checked~label.sk-toggleable__label-arrow:before {content: \"▾\";}#sk-container-id-4 div.sk-estimator input.sk-toggleable__control:checked~label.sk-toggleable__label {background-color: #d4ebff;}#sk-container-id-4 div.sk-label input.sk-toggleable__control:checked~label.sk-toggleable__label {background-color: #d4ebff;}#sk-container-id-4 input.sk-hidden--visually {border: 0;clip: rect(1px 1px 1px 1px);clip: rect(1px, 1px, 1px, 1px);height: 1px;margin: -1px;overflow: hidden;padding: 0;position: absolute;width: 1px;}#sk-container-id-4 div.sk-estimator {font-family: monospace;background-color: #f0f8ff;border: 1px dotted black;border-radius: 0.25em;box-sizing: border-box;margin-bottom: 0.5em;}#sk-container-id-4 div.sk-estimator:hover {background-color: #d4ebff;}#sk-container-id-4 div.sk-parallel-item::after {content: \"\";width: 100%;border-bottom: 1px solid gray;flex-grow: 1;}#sk-container-id-4 div.sk-label:hover label.sk-toggleable__label {background-color: #d4ebff;}#sk-container-id-4 div.sk-serial::before {content: \"\";position: absolute;border-left: 1px solid gray;box-sizing: border-box;top: 0;bottom: 0;left: 50%;z-index: 0;}#sk-container-id-4 div.sk-serial {display: flex;flex-direction: column;align-items: center;background-color: white;padding-right: 0.2em;padding-left: 0.2em;position: relative;}#sk-container-id-4 div.sk-item {position: relative;z-index: 1;}#sk-container-id-4 div.sk-parallel {display: flex;align-items: stretch;justify-content: center;background-color: white;position: relative;}#sk-container-id-4 div.sk-item::before, #sk-container-id-4 div.sk-parallel-item::before {content: \"\";position: absolute;border-left: 1px solid gray;box-sizing: border-box;top: 0;bottom: 0;left: 50%;z-index: -1;}#sk-container-id-4 div.sk-parallel-item {display: flex;flex-direction: column;z-index: 1;position: relative;background-color: white;}#sk-container-id-4 div.sk-parallel-item:first-child::after {align-self: flex-end;width: 50%;}#sk-container-id-4 div.sk-parallel-item:last-child::after {align-self: flex-start;width: 50%;}#sk-container-id-4 div.sk-parallel-item:only-child::after {width: 0;}#sk-container-id-4 div.sk-dashed-wrapped {border: 1px dashed gray;margin: 0 0.4em 0.5em 0.4em;box-sizing: border-box;padding-bottom: 0.4em;background-color: white;}#sk-container-id-4 div.sk-label label {font-family: monospace;font-weight: bold;display: inline-block;line-height: 1.2em;}#sk-container-id-4 div.sk-label-container {text-align: center;}#sk-container-id-4 div.sk-container {/* jupyter's `normalize.less` sets `[hidden] { display: none; }` but bootstrap.min.css set `[hidden] { display: none !important; }` so we also need the `!important` here to be able to override the default hidden behavior on the sphinx rendered scikit-learn.org. See: https://github.com/scikit-learn/scikit-learn/issues/21755 */display: inline-block !important;position: relative;}#sk-container-id-4 div.sk-text-repr-fallback {display: none;}</style><div id=\"sk-container-id-4\" class=\"sk-top-container\"><div class=\"sk-text-repr-fallback\"><pre>RandomForestClassifier()</pre><b>In a Jupyter environment, please rerun this cell to show the HTML representation or trust the notebook. <br />On GitHub, the HTML representation is unable to render, please try loading this page with nbviewer.org.</b></div><div class=\"sk-container\" hidden><div class=\"sk-item\"><div class=\"sk-estimator sk-toggleable\"><input class=\"sk-toggleable__control sk-hidden--visually\" id=\"sk-estimator-id-4\" type=\"checkbox\" checked><label for=\"sk-estimator-id-4\" class=\"sk-toggleable__label sk-toggleable__label-arrow\">RandomForestClassifier</label><div class=\"sk-toggleable__content\"><pre>RandomForestClassifier()</pre></div></div></div></div></div>"
            ],
            "text/plain": [
              "RandomForestClassifier()"
            ]
          },
          "execution_count": 29,
          "metadata": {},
          "output_type": "execute_result"
        }
      ],
      "source": [
        "rf_model = RandomForestClassifier()\n",
        "rf_model.fit(X_train, y_train)\n",
        "\n",
        "rf_model_ros = RandomForestClassifier()\n",
        "rf_model_ros.fit(X_train_ros, y_train_ros)\n",
        "\n",
        "rf_model_rus = RandomForestClassifier()\n",
        "rf_model_rus.fit(X_train_rus, y_train_rus)"
      ]
    },
    {
      "cell_type": "code",
      "execution_count": 30,
      "metadata": {},
      "outputs": [
        {
          "name": "stdout",
          "output_type": "stream",
          "text": [
            "Accuracy Decision Tree Original Dataset: 0.636\n",
            "Accuracy Decision Tree Random Over Sampling Dataset: 0.972\n",
            "Accuracy Decision Tree Random Under Sampling Dataset: 0.417\n"
          ]
        }
      ],
      "source": [
        "y_pred_rf = rf_model.predict(X_test)\n",
        "accuracy_rf = round(accuracy_score(y_test,y_pred_rf),3)\n",
        "print(\"Accuracy Decision Tree Original Dataset:\", accuracy_rf)\n",
        "\n",
        "y_pred_rf_ros = rf_model_ros.predict(X_test_ros)\n",
        "accuracy_rf_ros = round(accuracy_score(y_test_ros,y_pred_rf_ros),3)\n",
        "print(\"Accuracy Decision Tree Random Over Sampling Dataset:\", accuracy_rf_ros)\n",
        "\n",
        "y_pred_rf_rus = rf_model_rus.predict(X_test_rus)\n",
        "accuracy_rf_rus = round(accuracy_score(y_test_rus,y_pred_rf_rus),3)\n",
        "print(\"Accuracy Decision Tree Random Under Sampling Dataset:\", accuracy_rf_rus)"
      ]
    },
    {
      "cell_type": "code",
      "execution_count": 31,
      "metadata": {},
      "outputs": [
        {
          "name": "stdout",
          "output_type": "stream",
          "text": [
            "Classification Report:\n",
            "              precision    recall  f1-score   support\n",
            "\n",
            "         0.0       0.76      0.93      0.84        28\n",
            "         1.0       0.67      0.33      0.44         6\n",
            "         2.0       0.00      0.00      0.00         4\n",
            "         3.0       0.00      0.00      0.00         4\n",
            "         4.0       0.00      0.00      0.00         2\n",
            "\n",
            "    accuracy                           0.64        44\n",
            "   macro avg       0.29      0.25      0.26        44\n",
            "weighted avg       0.58      0.64      0.59        44\n",
            "\n",
            "Classification Report ROS:\n",
            "              precision    recall  f1-score   support\n",
            "\n",
            "         0.0       1.00      0.86      0.92        28\n",
            "         1.0       0.93      1.00      0.97        28\n",
            "         2.0       0.97      1.00      0.98        28\n",
            "         3.0       1.00      1.00      1.00        29\n",
            "         4.0       0.97      1.00      0.98        28\n",
            "\n",
            "    accuracy                           0.97       141\n",
            "   macro avg       0.97      0.97      0.97       141\n",
            "weighted avg       0.97      0.97      0.97       141\n",
            "\n",
            "Classification Report RUS:\n",
            "              precision    recall  f1-score   support\n",
            "\n",
            "         0.0       0.60      1.00      0.75         3\n",
            "         1.0       0.00      0.00      0.00         2\n",
            "         2.0       0.00      0.00      0.00         2\n",
            "         3.0       1.00      0.33      0.50         3\n",
            "         4.0       0.25      0.50      0.33         2\n",
            "\n",
            "    accuracy                           0.42        12\n",
            "   macro avg       0.37      0.37      0.32        12\n",
            "weighted avg       0.44      0.42      0.37        12\n",
            "\n"
          ]
        },
        {
          "name": "stderr",
          "output_type": "stream",
          "text": [
            "d:\\Conda\\envs\\ML\\lib\\site-packages\\sklearn\\metrics\\_classification.py:1471: UndefinedMetricWarning: Precision and F-score are ill-defined and being set to 0.0 in labels with no predicted samples. Use `zero_division` parameter to control this behavior.\n",
            "  _warn_prf(average, modifier, msg_start, len(result))\n",
            "d:\\Conda\\envs\\ML\\lib\\site-packages\\sklearn\\metrics\\_classification.py:1471: UndefinedMetricWarning: Precision and F-score are ill-defined and being set to 0.0 in labels with no predicted samples. Use `zero_division` parameter to control this behavior.\n",
            "  _warn_prf(average, modifier, msg_start, len(result))\n",
            "d:\\Conda\\envs\\ML\\lib\\site-packages\\sklearn\\metrics\\_classification.py:1471: UndefinedMetricWarning: Precision and F-score are ill-defined and being set to 0.0 in labels with no predicted samples. Use `zero_division` parameter to control this behavior.\n",
            "  _warn_prf(average, modifier, msg_start, len(result))\n"
          ]
        }
      ],
      "source": [
        "print(\"Classification Report:\")\n",
        "print(classification_report(y_test, y_pred_rf))\n",
        "\n",
        "print(\"Classification Report ROS:\")\n",
        "print(classification_report(y_test_ros, y_pred_rf_ros))\n",
        "\n",
        "print(\"Classification Report RUS:\")\n",
        "print(classification_report(y_test_rus, y_pred_rf_rus))"
      ]
    },
    {
      "cell_type": "markdown",
      "metadata": {},
      "source": [
        "## ANN"
      ]
    },
    {
      "cell_type": "code",
      "execution_count": 32,
      "metadata": {},
      "outputs": [],
      "source": [
        "def create_model_ann() :\n",
        "    model_ann = tf.keras.Sequential([\n",
        "        tf.keras.layers.Dense(64, activation='relu', input_shape=(X.shape[1],)),\n",
        "        tf.keras.layers.Dense(5, activation='softmax')\n",
        "    ])\n",
        "\n",
        "    model_ann.compile(optimizer='adam', loss='sparse_categorical_crossentropy', metrics=['accuracy'])\n",
        "    return model_ann\n"
      ]
    },
    {
      "cell_type": "code",
      "execution_count": 33,
      "metadata": {},
      "outputs": [
        {
          "name": "stdout",
          "output_type": "stream",
          "text": [
            "WARNING:tensorflow:From d:\\Conda\\envs\\ML\\lib\\site-packages\\keras\\src\\backend.py:873: The name tf.get_default_graph is deprecated. Please use tf.compat.v1.get_default_graph instead.\n",
            "\n",
            "WARNING:tensorflow:From d:\\Conda\\envs\\ML\\lib\\site-packages\\keras\\src\\optimizers\\__init__.py:309: The name tf.train.Optimizer is deprecated. Please use tf.compat.v1.train.Optimizer instead.\n",
            "\n"
          ]
        }
      ],
      "source": [
        "ann_model = create_model_ann()\n",
        "ann_model_ros = create_model_ann()\n",
        "ann_model_rus = create_model_ann()"
      ]
    },
    {
      "cell_type": "code",
      "execution_count": 34,
      "metadata": {},
      "outputs": [
        {
          "name": "stdout",
          "output_type": "stream",
          "text": [
            "WARNING:tensorflow:From d:\\Conda\\envs\\ML\\lib\\site-packages\\keras\\src\\utils\\tf_utils.py:492: The name tf.ragged.RaggedTensorValue is deprecated. Please use tf.compat.v1.ragged.RaggedTensorValue instead.\n",
            "\n",
            "WARNING:tensorflow:From d:\\Conda\\envs\\ML\\lib\\site-packages\\keras\\src\\engine\\base_layer_utils.py:384: The name tf.executing_eagerly_outside_functions is deprecated. Please use tf.compat.v1.executing_eagerly_outside_functions instead.\n",
            "\n"
          ]
        },
        {
          "data": {
            "text/plain": [
              "<keras.src.callbacks.History at 0x274f7499600>"
            ]
          },
          "execution_count": 34,
          "metadata": {},
          "output_type": "execute_result"
        }
      ],
      "source": [
        "ann_model.fit(X_train, y_train, epochs=50, batch_size=16, validation_data=(X_valid, y_valid), verbose=0)\n",
        "ann_model_ros.fit(X_train_ros, y_train_ros, epochs=50, batch_size=16, validation_data=(X_valid_ros, y_valid_ros), verbose=0)\n",
        "ann_model_rus.fit(X_train_rus, y_train_rus, epochs=50, batch_size=16, validation_data=(X_valid_rus, y_valid_rus), verbose=0)"
      ]
    },
    {
      "cell_type": "code",
      "execution_count": 35,
      "metadata": {},
      "outputs": [
        {
          "name": "stdout",
          "output_type": "stream",
          "text": [
            "2/2 [==============================] - 0s 5ms/step\n",
            "Accuracy Artificial Neural Network Original Dataset: 0.682\n",
            "5/5 [==============================] - 0s 2ms/step\n",
            "Accuracy Artificial Neural Network Random Over sampling Dataset: 0.589\n",
            "1/1 [==============================] - 0s 48ms/step\n",
            "Accuracy Artificial Neural Network Random Under Sampling Dataset: 0.333\n"
          ]
        }
      ],
      "source": [
        "y_pred_ann = np.argmax(ann_model.predict(X_test), axis=1)\n",
        "accuracy_ann = round(accuracy_score(y_test,y_pred_ann),3)\n",
        "print(\"Accuracy Artificial Neural Network Original Dataset:\", accuracy_ann)\n",
        "\n",
        "y_pred_ann_ros = np.argmax(ann_model_ros.predict(X_test_ros), axis=1)\n",
        "accuracy_ann_ros = round(accuracy_score(y_test_ros,y_pred_ann_ros),3)\n",
        "print(\"Accuracy Artificial Neural Network Random Over sampling Dataset:\", accuracy_ann_ros)\n",
        "\n",
        "y_pred_ann_rus = np.argmax(ann_model_rus.predict(X_test_rus), axis=1)\n",
        "accuracy_ann_rus = round(accuracy_score(y_test_rus,y_pred_ann_rus),3)\n",
        "print(\"Accuracy Artificial Neural Network Random Under Sampling Dataset:\", accuracy_ann_rus)"
      ]
    },
    {
      "cell_type": "code",
      "execution_count": 36,
      "metadata": {},
      "outputs": [
        {
          "name": "stdout",
          "output_type": "stream",
          "text": [
            "Classification Report:\n",
            "              precision    recall  f1-score   support\n",
            "\n",
            "         0.0       0.79      0.96      0.87        28\n",
            "         1.0       1.00      0.33      0.50         6\n",
            "         2.0       0.14      0.25      0.18         4\n",
            "         3.0       0.00      0.00      0.00         4\n",
            "         4.0       0.00      0.00      0.00         2\n",
            "\n",
            "    accuracy                           0.68        44\n",
            "   macro avg       0.39      0.31      0.31        44\n",
            "weighted avg       0.65      0.68      0.64        44\n",
            "\n",
            "Classification Report ROS:\n",
            "              precision    recall  f1-score   support\n",
            "\n",
            "         0.0       0.69      0.71      0.70        28\n",
            "         1.0       0.60      0.32      0.42        28\n",
            "         2.0       0.49      0.64      0.55        28\n",
            "         3.0       0.55      0.41      0.47        29\n",
            "         4.0       0.63      0.86      0.73        28\n",
            "\n",
            "    accuracy                           0.59       141\n",
            "   macro avg       0.59      0.59      0.57       141\n",
            "weighted avg       0.59      0.59      0.57       141\n",
            "\n",
            "Classification Report RUS:\n",
            "              precision    recall  f1-score   support\n",
            "\n",
            "         0.0       0.50      1.00      0.67         3\n",
            "         1.0       0.00      0.00      0.00         2\n",
            "         2.0       0.00      0.00      0.00         2\n",
            "         3.0       0.00      0.00      0.00         3\n",
            "         4.0       0.25      0.50      0.33         2\n",
            "\n",
            "    accuracy                           0.33        12\n",
            "   macro avg       0.15      0.30      0.20        12\n",
            "weighted avg       0.17      0.33      0.22        12\n",
            "\n"
          ]
        },
        {
          "name": "stderr",
          "output_type": "stream",
          "text": [
            "d:\\Conda\\envs\\ML\\lib\\site-packages\\sklearn\\metrics\\_classification.py:1471: UndefinedMetricWarning: Precision and F-score are ill-defined and being set to 0.0 in labels with no predicted samples. Use `zero_division` parameter to control this behavior.\n",
            "  _warn_prf(average, modifier, msg_start, len(result))\n",
            "d:\\Conda\\envs\\ML\\lib\\site-packages\\sklearn\\metrics\\_classification.py:1471: UndefinedMetricWarning: Precision and F-score are ill-defined and being set to 0.0 in labels with no predicted samples. Use `zero_division` parameter to control this behavior.\n",
            "  _warn_prf(average, modifier, msg_start, len(result))\n",
            "d:\\Conda\\envs\\ML\\lib\\site-packages\\sklearn\\metrics\\_classification.py:1471: UndefinedMetricWarning: Precision and F-score are ill-defined and being set to 0.0 in labels with no predicted samples. Use `zero_division` parameter to control this behavior.\n",
            "  _warn_prf(average, modifier, msg_start, len(result))\n",
            "d:\\Conda\\envs\\ML\\lib\\site-packages\\sklearn\\metrics\\_classification.py:1471: UndefinedMetricWarning: Precision and F-score are ill-defined and being set to 0.0 in labels with no predicted samples. Use `zero_division` parameter to control this behavior.\n",
            "  _warn_prf(average, modifier, msg_start, len(result))\n",
            "d:\\Conda\\envs\\ML\\lib\\site-packages\\sklearn\\metrics\\_classification.py:1471: UndefinedMetricWarning: Precision and F-score are ill-defined and being set to 0.0 in labels with no predicted samples. Use `zero_division` parameter to control this behavior.\n",
            "  _warn_prf(average, modifier, msg_start, len(result))\n",
            "d:\\Conda\\envs\\ML\\lib\\site-packages\\sklearn\\metrics\\_classification.py:1471: UndefinedMetricWarning: Precision and F-score are ill-defined and being set to 0.0 in labels with no predicted samples. Use `zero_division` parameter to control this behavior.\n",
            "  _warn_prf(average, modifier, msg_start, len(result))\n"
          ]
        }
      ],
      "source": [
        "print(\"Classification Report:\")\n",
        "print(classification_report(y_test, y_pred_ann))\n",
        "\n",
        "print(\"Classification Report ROS:\")\n",
        "print(classification_report(y_test_ros, y_pred_ann_ros))\n",
        "\n",
        "print(\"Classification Report RUS:\")\n",
        "print(classification_report(y_test_rus, y_pred_ann_rus))"
      ]
    },
    {
      "cell_type": "markdown",
      "metadata": {},
      "source": [
        "## DNN"
      ]
    },
    {
      "cell_type": "code",
      "execution_count": 37,
      "metadata": {},
      "outputs": [],
      "source": [
        "def create_model_dnn() :\n",
        "    model_dnn = tf.keras.Sequential([\n",
        "        tf.keras.layers.Dense(128, activation='relu', input_shape=(X_train.shape[1],)),\n",
        "        tf.keras.layers.Dense(64, activation='relu'),\n",
        "        tf.keras.layers.Dense(32, activation='relu'),\n",
        "        tf.keras.layers.Dense(5, activation='softmax')\n",
        "    ])\n",
        "\n",
        "    model_dnn.compile(optimizer='adam', loss='sparse_categorical_crossentropy', metrics=['accuracy'])\n",
        "\n",
        "    return model_dnn\n"
      ]
    },
    {
      "cell_type": "code",
      "execution_count": 38,
      "metadata": {},
      "outputs": [],
      "source": [
        "dnn_model = create_model_dnn()\n",
        "dnn_model_ros = create_model_dnn()\n",
        "dnn_model_rus = create_model_dnn()"
      ]
    },
    {
      "cell_type": "code",
      "execution_count": 39,
      "metadata": {},
      "outputs": [
        {
          "data": {
            "text/plain": [
              "<keras.src.callbacks.History at 0x274fec05cf0>"
            ]
          },
          "execution_count": 39,
          "metadata": {},
          "output_type": "execute_result"
        }
      ],
      "source": [
        "dnn_model.fit(X_train, y_train, epochs=50, batch_size=16, validation_data=(X_valid, y_valid), verbose=0)\n",
        "dnn_model_ros.fit(X_train_ros, y_train_ros, epochs=50, batch_size=16, validation_data=(X_valid_ros, y_valid_ros), verbose=0)\n",
        "dnn_model_rus.fit(X_train_rus, y_train_rus, epochs=50, batch_size=16, validation_data=(X_valid_rus, y_valid_rus), verbose=0)"
      ]
    },
    {
      "cell_type": "code",
      "execution_count": 40,
      "metadata": {},
      "outputs": [
        {
          "name": "stdout",
          "output_type": "stream",
          "text": [
            "2/2 [==============================] - 0s 0s/step\n",
            "Accuracy Deep Neural Network Original Dataset: 0.682\n",
            "WARNING:tensorflow:5 out of the last 11 calls to <function Model.make_predict_function.<locals>.predict_function at 0x00000274FFCBCE50> triggered tf.function retracing. Tracing is expensive and the excessive number of tracings could be due to (1) creating @tf.function repeatedly in a loop, (2) passing tensors with different shapes, (3) passing Python objects instead of tensors. For (1), please define your @tf.function outside of the loop. For (2), @tf.function has reduce_retracing=True option that can avoid unnecessary retracing. For (3), please refer to https://www.tensorflow.org/guide/function#controlling_retracing and https://www.tensorflow.org/api_docs/python/tf/function for  more details.\n",
            "5/5 [==============================] - 0s 4ms/step\n",
            "Accuracy Deep Neural Network Random Over Sampling Dataset: 0.901\n",
            "WARNING:tensorflow:5 out of the last 14 calls to <function Model.make_predict_function.<locals>.predict_function at 0x00000274F7EC2950> triggered tf.function retracing. Tracing is expensive and the excessive number of tracings could be due to (1) creating @tf.function repeatedly in a loop, (2) passing tensors with different shapes, (3) passing Python objects instead of tensors. For (1), please define your @tf.function outside of the loop. For (2), @tf.function has reduce_retracing=True option that can avoid unnecessary retracing. For (3), please refer to https://www.tensorflow.org/guide/function#controlling_retracing and https://www.tensorflow.org/api_docs/python/tf/function for  more details.\n",
            "1/1 [==============================] - 0s 79ms/step\n",
            "Accuracy Deep Neural Network Random Under Sampling Dataset: 0.25\n"
          ]
        }
      ],
      "source": [
        "y_pred_dnn = np.argmax(dnn_model.predict(X_test), axis=1)\n",
        "accuracy_dnn = round(accuracy_score(y_test,y_pred_dnn),3)\n",
        "print(\"Accuracy Deep Neural Network Original Dataset:\", accuracy_dnn)\n",
        "\n",
        "y_pred_dnn_ros = np.argmax(dnn_model_ros.predict(X_test_ros), axis=1)\n",
        "accuracy_dnn_ros = round(accuracy_score(y_test_ros,y_pred_dnn_ros),3)\n",
        "print(\"Accuracy Deep Neural Network Random Over Sampling Dataset:\", accuracy_dnn_ros)\n",
        "\n",
        "y_pred_dnn_rus = np.argmax(dnn_model_rus.predict(X_test_rus), axis=1)\n",
        "accuracy_dnn_rus = round(accuracy_score(y_test_rus,y_pred_dnn_rus),3)\n",
        "print(\"Accuracy Deep Neural Network Random Under Sampling Dataset:\", accuracy_dnn_rus)"
      ]
    },
    {
      "cell_type": "code",
      "execution_count": 41,
      "metadata": {},
      "outputs": [
        {
          "name": "stdout",
          "output_type": "stream",
          "text": [
            "Classification Report:\n",
            "              precision    recall  f1-score   support\n",
            "\n",
            "         0.0       0.79      0.96      0.87        28\n",
            "         1.0       1.00      0.17      0.29         6\n",
            "         2.0       0.29      0.50      0.36         4\n",
            "         3.0       0.00      0.00      0.00         4\n",
            "         4.0       0.00      0.00      0.00         2\n",
            "\n",
            "    accuracy                           0.68        44\n",
            "   macro avg       0.42      0.33      0.30        44\n",
            "weighted avg       0.67      0.68      0.63        44\n",
            "\n",
            "Classification Report ROS:\n",
            "              precision    recall  f1-score   support\n",
            "\n",
            "         0.0       1.00      0.75      0.86        28\n",
            "         1.0       0.92      0.82      0.87        28\n",
            "         2.0       0.80      1.00      0.89        28\n",
            "         3.0       0.90      0.93      0.92        29\n",
            "         4.0       0.93      1.00      0.97        28\n",
            "\n",
            "    accuracy                           0.90       141\n",
            "   macro avg       0.91      0.90      0.90       141\n",
            "weighted avg       0.91      0.90      0.90       141\n",
            "\n",
            "Classification Report RUS:\n",
            "              precision    recall  f1-score   support\n",
            "\n",
            "         0.0       0.40      0.67      0.50         3\n",
            "         1.0       0.00      0.00      0.00         2\n",
            "         2.0       0.00      0.00      0.00         2\n",
            "         3.0       0.00      0.00      0.00         3\n",
            "         4.0       0.33      0.50      0.40         2\n",
            "\n",
            "    accuracy                           0.25        12\n",
            "   macro avg       0.15      0.23      0.18        12\n",
            "weighted avg       0.16      0.25      0.19        12\n",
            "\n"
          ]
        },
        {
          "name": "stderr",
          "output_type": "stream",
          "text": [
            "d:\\Conda\\envs\\ML\\lib\\site-packages\\sklearn\\metrics\\_classification.py:1471: UndefinedMetricWarning: Precision and F-score are ill-defined and being set to 0.0 in labels with no predicted samples. Use `zero_division` parameter to control this behavior.\n",
            "  _warn_prf(average, modifier, msg_start, len(result))\n",
            "d:\\Conda\\envs\\ML\\lib\\site-packages\\sklearn\\metrics\\_classification.py:1471: UndefinedMetricWarning: Precision and F-score are ill-defined and being set to 0.0 in labels with no predicted samples. Use `zero_division` parameter to control this behavior.\n",
            "  _warn_prf(average, modifier, msg_start, len(result))\n",
            "d:\\Conda\\envs\\ML\\lib\\site-packages\\sklearn\\metrics\\_classification.py:1471: UndefinedMetricWarning: Precision and F-score are ill-defined and being set to 0.0 in labels with no predicted samples. Use `zero_division` parameter to control this behavior.\n",
            "  _warn_prf(average, modifier, msg_start, len(result))\n",
            "d:\\Conda\\envs\\ML\\lib\\site-packages\\sklearn\\metrics\\_classification.py:1471: UndefinedMetricWarning: Precision and F-score are ill-defined and being set to 0.0 in labels with no predicted samples. Use `zero_division` parameter to control this behavior.\n",
            "  _warn_prf(average, modifier, msg_start, len(result))\n",
            "d:\\Conda\\envs\\ML\\lib\\site-packages\\sklearn\\metrics\\_classification.py:1471: UndefinedMetricWarning: Precision and F-score are ill-defined and being set to 0.0 in labels with no predicted samples. Use `zero_division` parameter to control this behavior.\n",
            "  _warn_prf(average, modifier, msg_start, len(result))\n",
            "d:\\Conda\\envs\\ML\\lib\\site-packages\\sklearn\\metrics\\_classification.py:1471: UndefinedMetricWarning: Precision and F-score are ill-defined and being set to 0.0 in labels with no predicted samples. Use `zero_division` parameter to control this behavior.\n",
            "  _warn_prf(average, modifier, msg_start, len(result))\n"
          ]
        }
      ],
      "source": [
        "print(\"Classification Report:\")\n",
        "print(classification_report(y_test, y_pred_dnn))\n",
        "\n",
        "print(\"Classification Report ROS:\")\n",
        "print(classification_report(y_test_ros, y_pred_dnn_ros))\n",
        "\n",
        "print(\"Classification Report RUS:\")\n",
        "print(classification_report(y_test_rus, y_pred_dnn_rus))"
      ]
    },
    {
      "cell_type": "markdown",
      "metadata": {
        "id": "PyIhpO8442zS"
      },
      "source": [
        "# 8. Evaluasi\n",
        "evaluasi hasil setiap model"
      ]
    },
    {
      "cell_type": "code",
      "execution_count": 42,
      "metadata": {},
      "outputs": [
        {
          "data": {
            "text/html": [
              "<div>\n",
              "<style scoped>\n",
              "    .dataframe tbody tr th:only-of-type {\n",
              "        vertical-align: middle;\n",
              "    }\n",
              "\n",
              "    .dataframe tbody tr th {\n",
              "        vertical-align: top;\n",
              "    }\n",
              "\n",
              "    .dataframe thead th {\n",
              "        text-align: right;\n",
              "    }\n",
              "</style>\n",
              "<table border=\"1\" class=\"dataframe\">\n",
              "  <thead>\n",
              "    <tr style=\"text-align: right;\">\n",
              "      <th></th>\n",
              "      <th>Accuracy Original</th>\n",
              "      <th>Accuracy ROS</th>\n",
              "      <th>Accuracy RUS</th>\n",
              "    </tr>\n",
              "  </thead>\n",
              "  <tbody>\n",
              "    <tr>\n",
              "      <th>KNN</th>\n",
              "      <td>63.6</td>\n",
              "      <td>94.3</td>\n",
              "      <td>25.0</td>\n",
              "    </tr>\n",
              "    <tr>\n",
              "      <th>SVM</th>\n",
              "      <td>68.2</td>\n",
              "      <td>66.7</td>\n",
              "      <td>41.7</td>\n",
              "    </tr>\n",
              "    <tr>\n",
              "      <th>DT</th>\n",
              "      <td>68.2</td>\n",
              "      <td>92.9</td>\n",
              "      <td>50.0</td>\n",
              "    </tr>\n",
              "    <tr>\n",
              "      <th>RF</th>\n",
              "      <td>63.6</td>\n",
              "      <td>97.2</td>\n",
              "      <td>41.7</td>\n",
              "    </tr>\n",
              "    <tr>\n",
              "      <th>ANN</th>\n",
              "      <td>68.2</td>\n",
              "      <td>58.9</td>\n",
              "      <td>33.3</td>\n",
              "    </tr>\n",
              "    <tr>\n",
              "      <th>DNN</th>\n",
              "      <td>68.2</td>\n",
              "      <td>90.1</td>\n",
              "      <td>25.0</td>\n",
              "    </tr>\n",
              "  </tbody>\n",
              "</table>\n",
              "</div>"
            ],
            "text/plain": [
              "     Accuracy Original  Accuracy ROS  Accuracy RUS\n",
              "KNN               63.6          94.3          25.0\n",
              "SVM               68.2          66.7          41.7\n",
              "DT                68.2          92.9          50.0\n",
              "RF                63.6          97.2          41.7\n",
              "ANN               68.2          58.9          33.3\n",
              "DNN               68.2          90.1          25.0"
            ]
          },
          "execution_count": 42,
          "metadata": {},
          "output_type": "execute_result"
        }
      ],
      "source": [
        "models = ['KNN', 'SVM', 'DT', 'RF', 'ANN', 'DNN']\n",
        "accuracy_original = [accuracy_knn*100, accuracy_svm*100, accuracy_dt*100, accuracy_rf*100, accuracy_ann*100, accuracy_dnn*100]\n",
        "accuracy_ros = [accuracy_knn_ros*100, accuracy_svm_ros*100, accuracy_dt_ros*100, accuracy_rf_ros*100, accuracy_ann_ros*100, accuracy_dnn_ros*100]\n",
        "accuracy_rus = [accuracy_knn_rus*100, accuracy_svm_rus*100, accuracy_dt_rus*100, accuracy_rf_rus*100, accuracy_ann_rus*100, accuracy_dnn_rus*100]\n",
        "\n",
        "data = {\n",
        "    'Accuracy Original': accuracy_original,\n",
        "    'Accuracy ROS': accuracy_ros,\n",
        "    'Accuracy RUS': accuracy_rus\n",
        "}\n",
        "\n",
        "result_df = pd.DataFrame(data, index=models)\n",
        "result_df"
      ]
    },
    {
      "cell_type": "code",
      "execution_count": 43,
      "metadata": {},
      "outputs": [
        {
          "data": {
            "image/png": "[encoded data removed]",
            "text/plain": [
              "<Figure size 1500x800 with 1 Axes>"
            ]
          },
          "metadata": {},
          "output_type": "display_data"
        }
      ],
      "source": [
        "bar_width = 0.25\n",
        "index = range(len(models))\n",
        "\n",
        "fig, ax = plt.subplots(figsize=(15, 8))\n",
        "\n",
        "bar1 = ax.bar(index, accuracy_original, bar_width, label='Original')\n",
        "bar2 = ax.bar([i + bar_width for i in index], accuracy_ros, bar_width, label='ROS')\n",
        "bar3 = ax.bar([i + 2 * bar_width for i in index], accuracy_rus, bar_width, label='RUS')\n",
        "\n",
        "ax.set_xlabel('Model', fontsize=14)\n",
        "ax.set_ylabel('Accuracy (%)', fontsize=14)\n",
        "ax.set_title('Comparison of Model Accuracy with Different Sampling Techniques', fontsize=16)\n",
        "ax.set_xticks([i + bar_width for i in index])\n",
        "ax.set_xticklabels(models)\n",
        "ax.legend()\n",
        "\n",
        "def add_labels(bars):\n",
        "    for bar in bars:\n",
        "        yval = bar.get_height()\n",
        "        plt.text(bar.get_x() + bar.get_width()/2, yval, round(yval, 2), ha='center', va='bottom')\n",
        "\n",
        "add_labels(bar1)\n",
        "add_labels(bar2)\n",
        "add_labels(bar3)\n",
        "\n",
        "plt.show()"
      ]
    },
    {
      "cell_type": "markdown",
      "metadata": {
        "id": "mE5aMLBQ46Qr"
      },
      "source": [
        "# 9. Streamlit\n",
        "menyimpan model terbaik, membuat tampilan web untuk presentasi model (streamlit_demo.py)"
      ]
    },
    {
      "cell_type": "code",
      "execution_count": 46,
      "metadata": {},
      "outputs": [],
      "source": [
        "with open('best_model.pkl', 'wb') as file:\n",
        "    pickle.dump(rf_model_ros, file)\n",
        "\n",
        "with open('scaler_model.pkl', 'wb') as file:\n",
        "    pickle.dump(scaler, file)\n",
        "\n",
        "model_info = {'parameter': data_cleaned, 'accuracy': accuracy_rf_ros*100}\n",
        "with open('model_info.pkl', 'wb') as file:\n",
        "    pickle.dump(model_info, file)"
      ]
    },
    {
      "cell_type": "markdown",
      "metadata": {
        "id": "4w0Uwg-z48pq"
      },
      "source": [
        "# 10. Kesimpulan"
      ]
    },
    {
      "cell_type": "markdown",
      "metadata": {},
      "source": [
        "Dari hasil eksperimen yang dilakukan pada dataset HeartDisease dengan tiga kondisi (original, random over sampling/ROS, dan random under sampling/RUS) menggunakan beberapa algoritma machine learning, dapat diambil beberapa kesimpulan:\n",
        "\n",
        "1. **Original Data:**\n",
        "   - **KNN:** Akurasi rendah (63.6%), mungkin karena ketidakseimbangan kelas.\n",
        "   - **SVM:** Akurasi cukup baik (68.2%), namun tetap ada ruang untuk perbaikan.\n",
        "   - **Decision Tree (DT):** Akurasi baik (68.2%), namun masih bisa ditingkatkan.\n",
        "   - **Random Forest (RF):** Akurasi cukup baik (63.6%), tetapi mungkin ada ruang untuk peningkatan.\n",
        "   - **Artificial Neural Network (ANN):** Akurasi tinggi (68.2%), namun perlu diwaspadai jika ada overfitting.\n",
        "   - **Deep Neural Network (DNN):** Akurasi tinggi (68.2%), namun perlu diwaspadai overfitting.\n",
        "\n",
        "2. **Random Over Sampling (ROS):**\n",
        "   - Secara umum, terjadi peningkatan akurasi untuk semua model. Peningkatan ini mungkin disebabkan oleh penanganan ketidakseimbangan kelas dengan menambahkan sampel dari kelas minoritas.\n",
        "   - KNN dan DT mencapai akurasi yang cukup tinggi setelah proses ROS.\n",
        "\n",
        "3. **Random Under Sampling (RUS):**\n",
        "   - Peningkatan akurasi terlihat pada beberapa model, tetapi tidak sebesar ROS.\n",
        "   - Dalam beberapa kasus, seperti SVM dan DNN, akurasi setelah RUS bisa lebih rendah dibandingkan dengan kondisi original. Ini mungkin disebabkan oleh kehilangan informasi yang signifikan akibat pengurangan sampel dari kelas mayoritas.\n",
        "\n",
        "4. **General Observations:**\n",
        "   - Model Decision Tree (DT) dan Random Forest (RF) cenderung tampil baik pada kondisi original dan ROS.\n",
        "   - SVM cenderung lebih baik pada kondisi asli, sementara beberapa model neural network (ANN dan DNN) mungkin lebih sensitif terhadap perubahan pada data setelah dilakukan penanganan ketidakseimbangan."
      ]
    }
  ],
  "metadata": {
    "colab": {
      "gpuType": "T4",
      "provenance": []
    },
    "kernelspec": {
      "display_name": "Python 3",
      "name": "python3"
    },
    "language_info": {
      "codemirror_mode": {
        "name": "ipython",
        "version": 3
      },
      "file_extension": ".py",
      "mimetype": "text/x-python",
      "name": "python",
      "nbconvert_exporter": "python",
      "pygments_lexer": "ipython3",
      "version": "3.10.13"
    }
  },
  "nbformat": 4,
  "nbformat_minor": 0
}
